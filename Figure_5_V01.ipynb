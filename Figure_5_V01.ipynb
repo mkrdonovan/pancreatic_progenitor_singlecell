{
 "cells": [
  {
   "cell_type": "code",
   "execution_count": 39,
   "metadata": {},
   "outputs": [],
   "source": [
    "geneinfo = read.table(\"/publicdata/gencode_v19_20151104/gene_info.tsv\", sep = \"\\t\", header = T)"
   ]
  },
  {
   "cell_type": "markdown",
   "metadata": {},
   "source": [
    "# Genes that change"
   ]
  },
  {
   "cell_type": "code",
   "execution_count": 2,
   "metadata": {},
   "outputs": [],
   "source": [
    "# Signature genes\n",
    "\n",
    "out = \"/projects/PPC/analysis/ppc_pilot/data/aggr_live_then_integrate/\"\n",
    "\n",
    "iPSC_markers        = read.table(paste(out, \"iPSC_markers.txt\", sep = \"\"))\n",
    "repl_markers        = read.table(paste(out, \"repl_markers.txt\", sep = \"\"))\n",
    "ppc_markers         = read.table(paste(out, \"all.ppc_markers.txt\", sep = \"\"))\n",
    "Endocrine_markers   = read.table(paste(out, \"Endocrine_markers.txt\", sep = \"\"))\n",
    "mesenchymal_markers = read.table(paste(out, \"mesenchymal_markers.txt\", sep = \"\"))\n",
    "endothelial_markers = read.table(paste(out, \"endothelial_markers.txt\", sep = \"\"))\n"
   ]
  },
  {
   "cell_type": "code",
   "execution_count": 3,
   "metadata": {},
   "outputs": [],
   "source": [
    "# Changes over PPC time\n",
    "\n",
    "out = \"/projects/PPC/analysis/ppc_pilot/data/aggr_live_then_integrate/\"\n",
    "\n",
    "lm_fit_coefs = read.table(paste(out, \"ppc_fit_coefs_frazer_ppc_allexpressedgenes.txt\", sep = \"\"))\n",
    "lm_fit_coefs_sig = lm_fit_coefs[lm_fit_coefs$q_value < 0.05, ]\n",
    "\n",
    "mfuzz = read.table(paste(out, \"mfuzz_k10_b4_memberships.txt\", sep = \"\"))"
   ]
  },
  {
   "cell_type": "markdown",
   "metadata": {},
   "source": [
    "# Top 5"
   ]
  },
  {
   "cell_type": "code",
   "execution_count": 33,
   "metadata": {},
   "outputs": [],
   "source": [
    "g2 = mfuzz[mfuzz$maxCol == 2 & mfuzz$real == TRUE,]\n",
    "g6 = mfuzz[mfuzz$maxCol == 6 & mfuzz$real == TRUE,]"
   ]
  },
  {
   "cell_type": "code",
   "execution_count": 214,
   "metadata": {},
   "outputs": [],
   "source": [
    "n = 100\n",
    "\n",
    "iPSC_sigs        = data.frame(celltype = \"iPSC\",        gene_name = rownames(iPSC_markers[iPSC_markers$p_val_adj < 0.05, ])[1:n],                     qval = iPSC_markers[iPSC_markers$p_val_adj < 0.05, \"p_val_adj\"][1:n]              )\n",
    "PPC_sigs         = data.frame(celltype = \"all_PPC\",     gene_name = rownames(ppc_markers[ppc_markers$p_val_adj < 0.05, ])[1:n],                       qval = ppc_markers[ppc_markers$p_val_adj < 0.05, \"p_val_adj\"][1:n]               )\n",
    "repl_sigs        = data.frame(celltype = \"repl\",        gene_name = rownames(repl_markers[repl_markers$p_val_adj < 0.05, ])[1:n],                     qval = repl_markers[repl_markers$p_val_adj < 0.05, \"p_val_adj\"][1:n]              )\n",
    "endrocrine_sigs  = data.frame(celltype = \"endrocrine\",  gene_name = rownames(Endocrine_markers[Endocrine_markers$p_val_adj < 0.05, ])[1:n],           qval = Endocrine_markers[Endocrine_markers$p_val_adj < 0.05, \"p_val_adj\"][1:n]    )\n",
    "mesenchyme_sigs  = data.frame(celltype = \"mesenchyme\",  gene_name = rownames(mesenchymal_markers[mesenchymal_markers$p_val_adj < 0.05, ])[1:n],       qval = mesenchymal_markers[mesenchymal_markers$p_val_adj < 0.05, \"p_val_adj\"][1:n])\n",
    "endothelial_sigs = data.frame(celltype = \"endothelial\", gene_name = rownames(endothelial_markers[endothelial_markers$p_val_adj < 0.05, ])[1:n],       qval = endothelial_markers[endothelial_markers$p_val_adj < 0.05, \"p_val_adj\"][1:n])\n",
    "delta_ppc_sigs   = data.frame(celltype = \"delta_PPC\",   gene_name = lm_fit_coefs_sig[order(-abs(lm_fit_coefs_sig$estimate)), \"gene_short_name\"][1:n], qval = lm_fit_coefs_sig[order(-abs(lm_fit_coefs_sig$estimate)), \"q_value\"][1:n])\n",
    "\n",
    "interesting_genes = rbind(iPSC_sigs, PPC_sigs, repl_sigs, endrocrine_sigs, mesenchyme_sigs, endothelial_sigs, delta_ppc_sigs)"
   ]
  },
  {
   "cell_type": "code",
   "execution_count": 228,
   "metadata": {},
   "outputs": [
    {
     "data": {
      "text/plain": [
       "\n",
       "FALSE \n",
       "  262 "
      ]
     },
     "metadata": {},
     "output_type": "display_data"
    }
   ],
   "source": [
    "table(rownames(Endocrine_markers) %in% \"SEPT6\")"
   ]
  },
  {
   "cell_type": "code",
   "execution_count": 215,
   "metadata": {},
   "outputs": [],
   "source": [
    "interesting_genes.annotated = merge(interesting_genes, geneinfo, by = \"gene_name\")"
   ]
  },
  {
   "cell_type": "code",
   "execution_count": 216,
   "metadata": {},
   "outputs": [
    {
     "data": {
      "text/html": [
       "<table>\n",
       "<caption>A data.frame: 1 × 12</caption>\n",
       "<thead>\n",
       "\t<tr><th></th><th scope=col>gene_name</th><th scope=col>celltype</th><th scope=col>qval</th><th scope=col>gene_id</th><th scope=col>gene_type</th><th scope=col>chrom</th><th scope=col>start</th><th scope=col>end</th><th scope=col>strand</th><th scope=col>gene_status</th><th scope=col>source</th><th scope=col>level</th></tr>\n",
       "\t<tr><th></th><th scope=col>&lt;chr&gt;</th><th scope=col>&lt;chr&gt;</th><th scope=col>&lt;dbl&gt;</th><th scope=col>&lt;chr&gt;</th><th scope=col>&lt;chr&gt;</th><th scope=col>&lt;chr&gt;</th><th scope=col>&lt;int&gt;</th><th scope=col>&lt;int&gt;</th><th scope=col>&lt;chr&gt;</th><th scope=col>&lt;chr&gt;</th><th scope=col>&lt;chr&gt;</th><th scope=col>&lt;int&gt;</th></tr>\n",
       "</thead>\n",
       "<tbody>\n",
       "\t<tr><th scope=row>500</th><td>POU5F1</td><td>iPSC</td><td>0</td><td>ENSG00000204531.11</td><td>protein_coding</td><td>chr6</td><td>31132118</td><td>31148508</td><td>-</td><td>KNOWN</td><td>HAVANA</td><td>1</td></tr>\n",
       "</tbody>\n",
       "</table>\n"
      ],
      "text/latex": [
       "A data.frame: 1 × 12\n",
       "\\begin{tabular}{r|llllllllllll}\n",
       "  & gene\\_name & celltype & qval & gene\\_id & gene\\_type & chrom & start & end & strand & gene\\_status & source & level\\\\\n",
       "  & <chr> & <chr> & <dbl> & <chr> & <chr> & <chr> & <int> & <int> & <chr> & <chr> & <chr> & <int>\\\\\n",
       "\\hline\n",
       "\t500 & POU5F1 & iPSC & 0 & ENSG00000204531.11 & protein\\_coding & chr6 & 31132118 & 31148508 & - & KNOWN & HAVANA & 1\\\\\n",
       "\\end{tabular}\n"
      ],
      "text/markdown": [
       "\n",
       "A data.frame: 1 × 12\n",
       "\n",
       "| <!--/--> | gene_name &lt;chr&gt; | celltype &lt;chr&gt; | qval &lt;dbl&gt; | gene_id &lt;chr&gt; | gene_type &lt;chr&gt; | chrom &lt;chr&gt; | start &lt;int&gt; | end &lt;int&gt; | strand &lt;chr&gt; | gene_status &lt;chr&gt; | source &lt;chr&gt; | level &lt;int&gt; |\n",
       "|---|---|---|---|---|---|---|---|---|---|---|---|---|\n",
       "| 500 | POU5F1 | iPSC | 0 | ENSG00000204531.11 | protein_coding | chr6 | 31132118 | 31148508 | - | KNOWN | HAVANA | 1 |\n",
       "\n"
      ],
      "text/plain": [
       "    gene_name celltype qval gene_id            gene_type      chrom start   \n",
       "500 POU5F1    iPSC     0    ENSG00000204531.11 protein_coding chr6  31132118\n",
       "    end      strand gene_status source level\n",
       "500 31148508 -      KNOWN       HAVANA 1    "
      ]
     },
     "metadata": {},
     "output_type": "display_data"
    }
   ],
   "source": [
    "interesting_genes.annotated[interesting_genes.annotated$gene_name == \"POU5F1\",]"
   ]
  },
  {
   "cell_type": "markdown",
   "metadata": {},
   "source": [
    "# Alternative poly-Adenylation (APA)"
   ]
  },
  {
   "cell_type": "code",
   "execution_count": 217,
   "metadata": {},
   "outputs": [],
   "source": [
    "apa = read.table(\"../Table/results_peak_pvalues.txt\", head = T)"
   ]
  },
  {
   "cell_type": "code",
   "execution_count": 218,
   "metadata": {},
   "outputs": [],
   "source": [
    "interesting_genes.annotated$gene   = unlist(lapply(interesting_genes.annotated$gene_id, function(x){unlist(strsplit(x, \"\\\\.\"))[[1]]}))\n",
    "apa$gene               = unlist(lapply(apa$Gene_ID, function(x){unlist(strsplit(x, \"\\\\.\"))[[1]]}))"
   ]
  },
  {
   "cell_type": "code",
   "execution_count": 219,
   "metadata": {},
   "outputs": [],
   "source": [
    "apa_interesting = apa[apa$gene %in% interesting_genes.annotated$gene, ]"
   ]
  },
  {
   "cell_type": "code",
   "execution_count": 223,
   "metadata": {},
   "outputs": [
    {
     "data": {
      "text/html": [
       "<table>\n",
       "<caption>A data.frame: 6 × 15</caption>\n",
       "<thead>\n",
       "\t<tr><th></th><th scope=col>Gene_ID</th><th scope=col>UTR_ID</th><th scope=col>Peak_ID</th><th scope=col>iPSC_PUI</th><th scope=col>PPC_moderate_1_PUI</th><th scope=col>PPC_moderate_2_PUI</th><th scope=col>repl_PUI</th><th scope=col>mesenchymal_PUI</th><th scope=col>PPC_early_PUI</th><th scope=col>PPC_late_PUI</th><th scope=col>Endocrine_PUI</th><th scope=col>endothelial_PUI</th><th scope=col>pval</th><th scope=col>qval</th><th scope=col>gene</th></tr>\n",
       "\t<tr><th></th><th scope=col>&lt;chr&gt;</th><th scope=col>&lt;chr&gt;</th><th scope=col>&lt;chr&gt;</th><th scope=col>&lt;dbl&gt;</th><th scope=col>&lt;dbl&gt;</th><th scope=col>&lt;dbl&gt;</th><th scope=col>&lt;dbl&gt;</th><th scope=col>&lt;dbl&gt;</th><th scope=col>&lt;dbl&gt;</th><th scope=col>&lt;dbl&gt;</th><th scope=col>&lt;dbl&gt;</th><th scope=col>&lt;dbl&gt;</th><th scope=col>&lt;dbl&gt;</th><th scope=col>&lt;dbl&gt;</th><th scope=col>&lt;chr&gt;</th></tr>\n",
       "</thead>\n",
       "<tbody>\n",
       "\t<tr><th scope=row>18</th><td>ENSG00000060982.14</td><td>ENSG00000060982.14_1</td><td>ENSG00000060982.14_1_2</td><td>-0.39450994</td><td> 0.72679958</td><td> 0.6986161</td><td> 0.7833603</td><td> 0.5705053</td><td> 0.7597748</td><td> 0.5763753</td><td> 0.8185598</td><td> 0.8903217</td><td>1.62e-93</td><td>3.66e-90</td><td>ENSG00000060982</td></tr>\n",
       "\t<tr><th scope=row>23</th><td>ENSG00000060982.14</td><td>ENSG00000060982.14_1</td><td>ENSG00000060982.14_1_1</td><td>-0.52289847</td><td>-1.28794700</td><td>-1.5102721</td><td>-1.5064741</td><td>-1.3973143</td><td>-1.8455076</td><td>-1.5405285</td><td>-1.1814402</td><td>-1.8201717</td><td>4.37e-82</td><td>9.89e-79</td><td>ENSG00000060982</td></tr>\n",
       "\t<tr><th scope=row>57</th><td>ENSG00000112379.8 </td><td>ENSG00000112379.8_1 </td><td>ENSG00000112379.8_1_2 </td><td>-0.07703726</td><td>-1.65774971</td><td>-1.4944057</td><td>-1.5008627</td><td>-1.6552195</td><td>-1.7331771</td><td>-1.4373448</td><td>-2.0568164</td><td>-1.3843585</td><td>6.24e-54</td><td>1.39e-50</td><td>ENSG00000112379</td></tr>\n",
       "\t<tr><th scope=row>67</th><td>ENSG00000180616.8 </td><td>ENSG00000180616.8_1 </td><td>ENSG00000180616.8_1_5 </td><td>-2.20245915</td><td> 0.76017672</td><td> 1.3141873</td><td> 0.2234635</td><td>-0.5631989</td><td>-0.2198292</td><td> 0.8155728</td><td>-1.3678805</td><td> 0.6666667</td><td>1.30e-46</td><td>2.89e-43</td><td>ENSG00000180616</td></tr>\n",
       "\t<tr><th scope=row>131</th><td>ENSG00000152558.14</td><td>ENSG00000152558.14_1</td><td>ENSG00000152558.14_1_1</td><td>-1.27877684</td><td>-1.36158690</td><td>-1.2896550</td><td>-1.2819808</td><td>-1.4032684</td><td>-1.3789202</td><td>-1.1141434</td><td>-1.5990776</td><td>-1.1570536</td><td>3.82e-34</td><td>8.23e-31</td><td>ENSG00000152558</td></tr>\n",
       "\t<tr><th scope=row>181</th><td>ENSG00000152558.14</td><td>ENSG00000152558.14_1</td><td>ENSG00000152558.14_1_2</td><td>-0.41443194</td><td>-0.02842038</td><td>-0.0896379</td><td>-0.0896832</td><td>-0.2098020</td><td>-0.1395303</td><td>-0.2018253</td><td>-0.1080913</td><td>-0.5049769</td><td>2.84e-28</td><td>5.99e-25</td><td>ENSG00000152558</td></tr>\n",
       "</tbody>\n",
       "</table>\n"
      ],
      "text/latex": [
       "A data.frame: 6 × 15\n",
       "\\begin{tabular}{r|lllllllllllllll}\n",
       "  & Gene\\_ID & UTR\\_ID & Peak\\_ID & iPSC\\_PUI & PPC\\_moderate\\_1\\_PUI & PPC\\_moderate\\_2\\_PUI & repl\\_PUI & mesenchymal\\_PUI & PPC\\_early\\_PUI & PPC\\_late\\_PUI & Endocrine\\_PUI & endothelial\\_PUI & pval & qval & gene\\\\\n",
       "  & <chr> & <chr> & <chr> & <dbl> & <dbl> & <dbl> & <dbl> & <dbl> & <dbl> & <dbl> & <dbl> & <dbl> & <dbl> & <dbl> & <chr>\\\\\n",
       "\\hline\n",
       "\t18 & ENSG00000060982.14 & ENSG00000060982.14\\_1 & ENSG00000060982.14\\_1\\_2 & -0.39450994 &  0.72679958 &  0.6986161 &  0.7833603 &  0.5705053 &  0.7597748 &  0.5763753 &  0.8185598 &  0.8903217 & 1.62e-93 & 3.66e-90 & ENSG00000060982\\\\\n",
       "\t23 & ENSG00000060982.14 & ENSG00000060982.14\\_1 & ENSG00000060982.14\\_1\\_1 & -0.52289847 & -1.28794700 & -1.5102721 & -1.5064741 & -1.3973143 & -1.8455076 & -1.5405285 & -1.1814402 & -1.8201717 & 4.37e-82 & 9.89e-79 & ENSG00000060982\\\\\n",
       "\t57 & ENSG00000112379.8  & ENSG00000112379.8\\_1  & ENSG00000112379.8\\_1\\_2  & -0.07703726 & -1.65774971 & -1.4944057 & -1.5008627 & -1.6552195 & -1.7331771 & -1.4373448 & -2.0568164 & -1.3843585 & 6.24e-54 & 1.39e-50 & ENSG00000112379\\\\\n",
       "\t67 & ENSG00000180616.8  & ENSG00000180616.8\\_1  & ENSG00000180616.8\\_1\\_5  & -2.20245915 &  0.76017672 &  1.3141873 &  0.2234635 & -0.5631989 & -0.2198292 &  0.8155728 & -1.3678805 &  0.6666667 & 1.30e-46 & 2.89e-43 & ENSG00000180616\\\\\n",
       "\t131 & ENSG00000152558.14 & ENSG00000152558.14\\_1 & ENSG00000152558.14\\_1\\_1 & -1.27877684 & -1.36158690 & -1.2896550 & -1.2819808 & -1.4032684 & -1.3789202 & -1.1141434 & -1.5990776 & -1.1570536 & 3.82e-34 & 8.23e-31 & ENSG00000152558\\\\\n",
       "\t181 & ENSG00000152558.14 & ENSG00000152558.14\\_1 & ENSG00000152558.14\\_1\\_2 & -0.41443194 & -0.02842038 & -0.0896379 & -0.0896832 & -0.2098020 & -0.1395303 & -0.2018253 & -0.1080913 & -0.5049769 & 2.84e-28 & 5.99e-25 & ENSG00000152558\\\\\n",
       "\\end{tabular}\n"
      ],
      "text/markdown": [
       "\n",
       "A data.frame: 6 × 15\n",
       "\n",
       "| <!--/--> | Gene_ID &lt;chr&gt; | UTR_ID &lt;chr&gt; | Peak_ID &lt;chr&gt; | iPSC_PUI &lt;dbl&gt; | PPC_moderate_1_PUI &lt;dbl&gt; | PPC_moderate_2_PUI &lt;dbl&gt; | repl_PUI &lt;dbl&gt; | mesenchymal_PUI &lt;dbl&gt; | PPC_early_PUI &lt;dbl&gt; | PPC_late_PUI &lt;dbl&gt; | Endocrine_PUI &lt;dbl&gt; | endothelial_PUI &lt;dbl&gt; | pval &lt;dbl&gt; | qval &lt;dbl&gt; | gene &lt;chr&gt; |\n",
       "|---|---|---|---|---|---|---|---|---|---|---|---|---|---|---|---|\n",
       "| 18 | ENSG00000060982.14 | ENSG00000060982.14_1 | ENSG00000060982.14_1_2 | -0.39450994 |  0.72679958 |  0.6986161 |  0.7833603 |  0.5705053 |  0.7597748 |  0.5763753 |  0.8185598 |  0.8903217 | 1.62e-93 | 3.66e-90 | ENSG00000060982 |\n",
       "| 23 | ENSG00000060982.14 | ENSG00000060982.14_1 | ENSG00000060982.14_1_1 | -0.52289847 | -1.28794700 | -1.5102721 | -1.5064741 | -1.3973143 | -1.8455076 | -1.5405285 | -1.1814402 | -1.8201717 | 4.37e-82 | 9.89e-79 | ENSG00000060982 |\n",
       "| 57 | ENSG00000112379.8  | ENSG00000112379.8_1  | ENSG00000112379.8_1_2  | -0.07703726 | -1.65774971 | -1.4944057 | -1.5008627 | -1.6552195 | -1.7331771 | -1.4373448 | -2.0568164 | -1.3843585 | 6.24e-54 | 1.39e-50 | ENSG00000112379 |\n",
       "| 67 | ENSG00000180616.8  | ENSG00000180616.8_1  | ENSG00000180616.8_1_5  | -2.20245915 |  0.76017672 |  1.3141873 |  0.2234635 | -0.5631989 | -0.2198292 |  0.8155728 | -1.3678805 |  0.6666667 | 1.30e-46 | 2.89e-43 | ENSG00000180616 |\n",
       "| 131 | ENSG00000152558.14 | ENSG00000152558.14_1 | ENSG00000152558.14_1_1 | -1.27877684 | -1.36158690 | -1.2896550 | -1.2819808 | -1.4032684 | -1.3789202 | -1.1141434 | -1.5990776 | -1.1570536 | 3.82e-34 | 8.23e-31 | ENSG00000152558 |\n",
       "| 181 | ENSG00000152558.14 | ENSG00000152558.14_1 | ENSG00000152558.14_1_2 | -0.41443194 | -0.02842038 | -0.0896379 | -0.0896832 | -0.2098020 | -0.1395303 | -0.2018253 | -0.1080913 | -0.5049769 | 2.84e-28 | 5.99e-25 | ENSG00000152558 |\n",
       "\n"
      ],
      "text/plain": [
       "    Gene_ID            UTR_ID               Peak_ID                iPSC_PUI   \n",
       "18  ENSG00000060982.14 ENSG00000060982.14_1 ENSG00000060982.14_1_2 -0.39450994\n",
       "23  ENSG00000060982.14 ENSG00000060982.14_1 ENSG00000060982.14_1_1 -0.52289847\n",
       "57  ENSG00000112379.8  ENSG00000112379.8_1  ENSG00000112379.8_1_2  -0.07703726\n",
       "67  ENSG00000180616.8  ENSG00000180616.8_1  ENSG00000180616.8_1_5  -2.20245915\n",
       "131 ENSG00000152558.14 ENSG00000152558.14_1 ENSG00000152558.14_1_1 -1.27877684\n",
       "181 ENSG00000152558.14 ENSG00000152558.14_1 ENSG00000152558.14_1_2 -0.41443194\n",
       "    PPC_moderate_1_PUI PPC_moderate_2_PUI repl_PUI   mesenchymal_PUI\n",
       "18   0.72679958         0.6986161          0.7833603  0.5705053     \n",
       "23  -1.28794700        -1.5102721         -1.5064741 -1.3973143     \n",
       "57  -1.65774971        -1.4944057         -1.5008627 -1.6552195     \n",
       "67   0.76017672         1.3141873          0.2234635 -0.5631989     \n",
       "131 -1.36158690        -1.2896550         -1.2819808 -1.4032684     \n",
       "181 -0.02842038        -0.0896379         -0.0896832 -0.2098020     \n",
       "    PPC_early_PUI PPC_late_PUI Endocrine_PUI endothelial_PUI pval     qval    \n",
       "18   0.7597748     0.5763753    0.8185598     0.8903217      1.62e-93 3.66e-90\n",
       "23  -1.8455076    -1.5405285   -1.1814402    -1.8201717      4.37e-82 9.89e-79\n",
       "57  -1.7331771    -1.4373448   -2.0568164    -1.3843585      6.24e-54 1.39e-50\n",
       "67  -0.2198292     0.8155728   -1.3678805     0.6666667      1.30e-46 2.89e-43\n",
       "131 -1.3789202    -1.1141434   -1.5990776    -1.1570536      3.82e-34 8.23e-31\n",
       "181 -0.1395303    -0.2018253   -0.1080913    -0.5049769      2.84e-28 5.99e-25\n",
       "    gene           \n",
       "18  ENSG00000060982\n",
       "23  ENSG00000060982\n",
       "57  ENSG00000112379\n",
       "67  ENSG00000180616\n",
       "131 ENSG00000152558\n",
       "181 ENSG00000152558"
      ]
     },
     "metadata": {},
     "output_type": "display_data"
    }
   ],
   "source": [
    "head(apa_interesting)"
   ]
  },
  {
   "cell_type": "code",
   "execution_count": 220,
   "metadata": {},
   "outputs": [
    {
     "data": {
      "text/html": [
       "<table>\n",
       "<caption>A data.frame: 22 × 13</caption>\n",
       "<thead>\n",
       "\t<tr><th></th><th scope=col>gene_name</th><th scope=col>celltype</th><th scope=col>qval</th><th scope=col>gene_id</th><th scope=col>gene_type</th><th scope=col>chrom</th><th scope=col>start</th><th scope=col>end</th><th scope=col>strand</th><th scope=col>gene_status</th><th scope=col>source</th><th scope=col>level</th><th scope=col>gene</th></tr>\n",
       "\t<tr><th></th><th scope=col>&lt;chr&gt;</th><th scope=col>&lt;chr&gt;</th><th scope=col>&lt;dbl&gt;</th><th scope=col>&lt;chr&gt;</th><th scope=col>&lt;chr&gt;</th><th scope=col>&lt;chr&gt;</th><th scope=col>&lt;int&gt;</th><th scope=col>&lt;int&gt;</th><th scope=col>&lt;chr&gt;</th><th scope=col>&lt;chr&gt;</th><th scope=col>&lt;chr&gt;</th><th scope=col>&lt;int&gt;</th><th scope=col>&lt;chr&gt;</th></tr>\n",
       "</thead>\n",
       "<tbody>\n",
       "\t<tr><th scope=row>1</th><td>A1CF     </td><td>endrocrine </td><td>3.162820e-190</td><td>ENSG00000148584.10</td><td>protein_coding</td><td>chr10</td><td> 52559168</td><td> 52645435</td><td>-</td><td>KNOWN</td><td>HAVANA</td><td>2</td><td>ENSG00000148584</td></tr>\n",
       "\t<tr><th scope=row>52</th><td>BCAT1    </td><td>mesenchyme </td><td> 0.000000e+00</td><td>ENSG00000060982.10</td><td>protein_coding</td><td>chr12</td><td> 24964294</td><td> 25102393</td><td>-</td><td>KNOWN</td><td>HAVANA</td><td>2</td><td>ENSG00000060982</td></tr>\n",
       "\t<tr><th scope=row>56</th><td>BIRC5    </td><td>repl       </td><td> 0.000000e+00</td><td>ENSG00000089685.10</td><td>protein_coding</td><td>chr17</td><td> 76210266</td><td> 76221717</td><td>+</td><td>KNOWN</td><td>HAVANA</td><td>2</td><td>ENSG00000089685</td></tr>\n",
       "\t<tr><th scope=row>57</th><td>BIRC5    </td><td>iPSC       </td><td> 0.000000e+00</td><td>ENSG00000089685.10</td><td>protein_coding</td><td>chr17</td><td> 76210266</td><td> 76221717</td><td>+</td><td>KNOWN</td><td>HAVANA</td><td>2</td><td>ENSG00000089685</td></tr>\n",
       "\t<tr><th scope=row>66</th><td>C14orf132</td><td>endrocrine </td><td>3.590598e-199</td><td>ENSG00000227051.4 </td><td>protein_coding</td><td>chr14</td><td> 96505660</td><td> 96560417</td><td>+</td><td>KNOWN</td><td>HAVANA</td><td>1</td><td>ENSG00000227051</td></tr>\n",
       "\t<tr><th scope=row>69</th><td>C1orf21  </td><td>mesenchyme </td><td> 0.000000e+00</td><td>ENSG00000116667.8 </td><td>protein_coding</td><td>chr1 </td><td>184356191</td><td>184598154</td><td>+</td><td>KNOWN</td><td>HAVANA</td><td>2</td><td>ENSG00000116667</td></tr>\n",
       "\t<tr><th scope=row>94</th><td>CBX5     </td><td>repl       </td><td> 0.000000e+00</td><td>ENSG00000094916.9 </td><td>protein_coding</td><td>chr12</td><td> 54624723</td><td> 54673886</td><td>-</td><td>KNOWN</td><td>HAVANA</td><td>1</td><td>ENSG00000094916</td></tr>\n",
       "\t<tr><th scope=row>119</th><td>CDH6     </td><td>mesenchyme </td><td> 0.000000e+00</td><td>ENSG00000113361.8 </td><td>protein_coding</td><td>chr5 </td><td> 31193856</td><td> 31329253</td><td>+</td><td>KNOWN</td><td>HAVANA</td><td>2</td><td>ENSG00000113361</td></tr>\n",
       "\t<tr><th scope=row>120</th><td>CDH6     </td><td>all_PPC    </td><td> 0.000000e+00</td><td>ENSG00000113361.8 </td><td>protein_coding</td><td>chr5 </td><td> 31193856</td><td> 31329253</td><td>+</td><td>KNOWN</td><td>HAVANA</td><td>2</td><td>ENSG00000113361</td></tr>\n",
       "\t<tr><th scope=row>198</th><td>DIAPH2   </td><td>iPSC       </td><td> 0.000000e+00</td><td>ENSG00000147202.13</td><td>protein_coding</td><td>chrX </td><td> 95939661</td><td> 96859996</td><td>+</td><td>KNOWN</td><td>HAVANA</td><td>2</td><td>ENSG00000147202</td></tr>\n",
       "\t<tr><th scope=row>260</th><td>FNDC3B   </td><td>delta_PPC  </td><td> 1.102016e-07</td><td>ENSG00000075420.8 </td><td>protein_coding</td><td>chr3 </td><td>171757417</td><td>172119455</td><td>+</td><td>KNOWN</td><td>HAVANA</td><td>2</td><td>ENSG00000075420</td></tr>\n",
       "\t<tr><th scope=row>352</th><td>ITGA1    </td><td>endothelial</td><td> 0.000000e+00</td><td>ENSG00000213949.4 </td><td>protein_coding</td><td>chr5 </td><td> 52083729</td><td> 52255040</td><td>+</td><td>KNOWN</td><td>HAVANA</td><td>2</td><td>ENSG00000213949</td></tr>\n",
       "\t<tr><th scope=row>368</th><td>KIAA1244 </td><td>endrocrine </td><td>6.974633e-172</td><td>ENSG00000112379.8 </td><td>protein_coding</td><td>chr6 </td><td>138483057</td><td>138665800</td><td>+</td><td>KNOWN</td><td>HAVANA</td><td>2</td><td>ENSG00000112379</td></tr>\n",
       "\t<tr><th scope=row>392</th><td>LIMA1    </td><td>delta_PPC  </td><td> 9.359236e-06</td><td>ENSG00000050405.9 </td><td>protein_coding</td><td>chr12</td><td> 50569570</td><td> 50677329</td><td>-</td><td>KNOWN</td><td>HAVANA</td><td>2</td><td>ENSG00000050405</td></tr>\n",
       "\t<tr><th scope=row>468</th><td>ONECUT2  </td><td>mesenchyme </td><td> 0.000000e+00</td><td>ENSG00000119547.5 </td><td>protein_coding</td><td>chr18</td><td> 55102916</td><td> 55158529</td><td>+</td><td>KNOWN</td><td>HAVANA</td><td>2</td><td>ENSG00000119547</td></tr>\n",
       "\t<tr><th scope=row>513</th><td>PRTG     </td><td>mesenchyme </td><td> 0.000000e+00</td><td>ENSG00000166450.8 </td><td>protein_coding</td><td>chr15</td><td> 55903743</td><td> 56035288</td><td>-</td><td>KNOWN</td><td>HAVANA</td><td>1</td><td>ENSG00000166450</td></tr>\n",
       "\t<tr><th scope=row>619</th><td>SSTR2    </td><td>endrocrine </td><td> 0.000000e+00</td><td>ENSG00000180616.4 </td><td>protein_coding</td><td>chr17</td><td> 71161150</td><td> 71167185</td><td>+</td><td>KNOWN</td><td>HAVANA</td><td>2</td><td>ENSG00000180616</td></tr>\n",
       "\t<tr><th scope=row>620</th><td>STC1     </td><td>endothelial</td><td> 0.000000e+00</td><td>ENSG00000159167.7 </td><td>protein_coding</td><td>chr8 </td><td> 23699427</td><td> 23712320</td><td>-</td><td>KNOWN</td><td>HAVANA</td><td>1</td><td>ENSG00000159167</td></tr>\n",
       "\t<tr><th scope=row>628</th><td>TCF4     </td><td>mesenchyme </td><td> 0.000000e+00</td><td>ENSG00000196628.9 </td><td>protein_coding</td><td>chr18</td><td> 52889561</td><td> 53332018</td><td>-</td><td>KNOWN</td><td>HAVANA</td><td>1</td><td>ENSG00000196628</td></tr>\n",
       "\t<tr><th scope=row>629</th><td>TCF4     </td><td>endothelial</td><td> 0.000000e+00</td><td>ENSG00000196628.9 </td><td>protein_coding</td><td>chr18</td><td> 52889561</td><td> 53332018</td><td>-</td><td>KNOWN</td><td>HAVANA</td><td>1</td><td>ENSG00000196628</td></tr>\n",
       "\t<tr><th scope=row>641</th><td>TIMP3    </td><td>endothelial</td><td> 0.000000e+00</td><td>ENSG00000100234.11</td><td>protein_coding</td><td>chr22</td><td> 33197686</td><td> 33259030</td><td>+</td><td>KNOWN</td><td>HAVANA</td><td>2</td><td>ENSG00000100234</td></tr>\n",
       "\t<tr><th scope=row>648</th><td>TMEM123  </td><td>delta_PPC  </td><td> 3.837754e-02</td><td>ENSG00000152558.10</td><td>protein_coding</td><td>chr11</td><td>102267062</td><td>102341115</td><td>-</td><td>KNOWN</td><td>HAVANA</td><td>2</td><td>ENSG00000152558</td></tr>\n",
       "</tbody>\n",
       "</table>\n"
      ],
      "text/latex": [
       "A data.frame: 22 × 13\n",
       "\\begin{tabular}{r|lllllllllllll}\n",
       "  & gene\\_name & celltype & qval & gene\\_id & gene\\_type & chrom & start & end & strand & gene\\_status & source & level & gene\\\\\n",
       "  & <chr> & <chr> & <dbl> & <chr> & <chr> & <chr> & <int> & <int> & <chr> & <chr> & <chr> & <int> & <chr>\\\\\n",
       "\\hline\n",
       "\t1 & A1CF      & endrocrine  & 3.162820e-190 & ENSG00000148584.10 & protein\\_coding & chr10 &  52559168 &  52645435 & - & KNOWN & HAVANA & 2 & ENSG00000148584\\\\\n",
       "\t52 & BCAT1     & mesenchyme  &  0.000000e+00 & ENSG00000060982.10 & protein\\_coding & chr12 &  24964294 &  25102393 & - & KNOWN & HAVANA & 2 & ENSG00000060982\\\\\n",
       "\t56 & BIRC5     & repl        &  0.000000e+00 & ENSG00000089685.10 & protein\\_coding & chr17 &  76210266 &  76221717 & + & KNOWN & HAVANA & 2 & ENSG00000089685\\\\\n",
       "\t57 & BIRC5     & iPSC        &  0.000000e+00 & ENSG00000089685.10 & protein\\_coding & chr17 &  76210266 &  76221717 & + & KNOWN & HAVANA & 2 & ENSG00000089685\\\\\n",
       "\t66 & C14orf132 & endrocrine  & 3.590598e-199 & ENSG00000227051.4  & protein\\_coding & chr14 &  96505660 &  96560417 & + & KNOWN & HAVANA & 1 & ENSG00000227051\\\\\n",
       "\t69 & C1orf21   & mesenchyme  &  0.000000e+00 & ENSG00000116667.8  & protein\\_coding & chr1  & 184356191 & 184598154 & + & KNOWN & HAVANA & 2 & ENSG00000116667\\\\\n",
       "\t94 & CBX5      & repl        &  0.000000e+00 & ENSG00000094916.9  & protein\\_coding & chr12 &  54624723 &  54673886 & - & KNOWN & HAVANA & 1 & ENSG00000094916\\\\\n",
       "\t119 & CDH6      & mesenchyme  &  0.000000e+00 & ENSG00000113361.8  & protein\\_coding & chr5  &  31193856 &  31329253 & + & KNOWN & HAVANA & 2 & ENSG00000113361\\\\\n",
       "\t120 & CDH6      & all\\_PPC     &  0.000000e+00 & ENSG00000113361.8  & protein\\_coding & chr5  &  31193856 &  31329253 & + & KNOWN & HAVANA & 2 & ENSG00000113361\\\\\n",
       "\t198 & DIAPH2    & iPSC        &  0.000000e+00 & ENSG00000147202.13 & protein\\_coding & chrX  &  95939661 &  96859996 & + & KNOWN & HAVANA & 2 & ENSG00000147202\\\\\n",
       "\t260 & FNDC3B    & delta\\_PPC   &  1.102016e-07 & ENSG00000075420.8  & protein\\_coding & chr3  & 171757417 & 172119455 & + & KNOWN & HAVANA & 2 & ENSG00000075420\\\\\n",
       "\t352 & ITGA1     & endothelial &  0.000000e+00 & ENSG00000213949.4  & protein\\_coding & chr5  &  52083729 &  52255040 & + & KNOWN & HAVANA & 2 & ENSG00000213949\\\\\n",
       "\t368 & KIAA1244  & endrocrine  & 6.974633e-172 & ENSG00000112379.8  & protein\\_coding & chr6  & 138483057 & 138665800 & + & KNOWN & HAVANA & 2 & ENSG00000112379\\\\\n",
       "\t392 & LIMA1     & delta\\_PPC   &  9.359236e-06 & ENSG00000050405.9  & protein\\_coding & chr12 &  50569570 &  50677329 & - & KNOWN & HAVANA & 2 & ENSG00000050405\\\\\n",
       "\t468 & ONECUT2   & mesenchyme  &  0.000000e+00 & ENSG00000119547.5  & protein\\_coding & chr18 &  55102916 &  55158529 & + & KNOWN & HAVANA & 2 & ENSG00000119547\\\\\n",
       "\t513 & PRTG      & mesenchyme  &  0.000000e+00 & ENSG00000166450.8  & protein\\_coding & chr15 &  55903743 &  56035288 & - & KNOWN & HAVANA & 1 & ENSG00000166450\\\\\n",
       "\t619 & SSTR2     & endrocrine  &  0.000000e+00 & ENSG00000180616.4  & protein\\_coding & chr17 &  71161150 &  71167185 & + & KNOWN & HAVANA & 2 & ENSG00000180616\\\\\n",
       "\t620 & STC1      & endothelial &  0.000000e+00 & ENSG00000159167.7  & protein\\_coding & chr8  &  23699427 &  23712320 & - & KNOWN & HAVANA & 1 & ENSG00000159167\\\\\n",
       "\t628 & TCF4      & mesenchyme  &  0.000000e+00 & ENSG00000196628.9  & protein\\_coding & chr18 &  52889561 &  53332018 & - & KNOWN & HAVANA & 1 & ENSG00000196628\\\\\n",
       "\t629 & TCF4      & endothelial &  0.000000e+00 & ENSG00000196628.9  & protein\\_coding & chr18 &  52889561 &  53332018 & - & KNOWN & HAVANA & 1 & ENSG00000196628\\\\\n",
       "\t641 & TIMP3     & endothelial &  0.000000e+00 & ENSG00000100234.11 & protein\\_coding & chr22 &  33197686 &  33259030 & + & KNOWN & HAVANA & 2 & ENSG00000100234\\\\\n",
       "\t648 & TMEM123   & delta\\_PPC   &  3.837754e-02 & ENSG00000152558.10 & protein\\_coding & chr11 & 102267062 & 102341115 & - & KNOWN & HAVANA & 2 & ENSG00000152558\\\\\n",
       "\\end{tabular}\n"
      ],
      "text/markdown": [
       "\n",
       "A data.frame: 22 × 13\n",
       "\n",
       "| <!--/--> | gene_name &lt;chr&gt; | celltype &lt;chr&gt; | qval &lt;dbl&gt; | gene_id &lt;chr&gt; | gene_type &lt;chr&gt; | chrom &lt;chr&gt; | start &lt;int&gt; | end &lt;int&gt; | strand &lt;chr&gt; | gene_status &lt;chr&gt; | source &lt;chr&gt; | level &lt;int&gt; | gene &lt;chr&gt; |\n",
       "|---|---|---|---|---|---|---|---|---|---|---|---|---|---|\n",
       "| 1 | A1CF      | endrocrine  | 3.162820e-190 | ENSG00000148584.10 | protein_coding | chr10 |  52559168 |  52645435 | - | KNOWN | HAVANA | 2 | ENSG00000148584 |\n",
       "| 52 | BCAT1     | mesenchyme  |  0.000000e+00 | ENSG00000060982.10 | protein_coding | chr12 |  24964294 |  25102393 | - | KNOWN | HAVANA | 2 | ENSG00000060982 |\n",
       "| 56 | BIRC5     | repl        |  0.000000e+00 | ENSG00000089685.10 | protein_coding | chr17 |  76210266 |  76221717 | + | KNOWN | HAVANA | 2 | ENSG00000089685 |\n",
       "| 57 | BIRC5     | iPSC        |  0.000000e+00 | ENSG00000089685.10 | protein_coding | chr17 |  76210266 |  76221717 | + | KNOWN | HAVANA | 2 | ENSG00000089685 |\n",
       "| 66 | C14orf132 | endrocrine  | 3.590598e-199 | ENSG00000227051.4  | protein_coding | chr14 |  96505660 |  96560417 | + | KNOWN | HAVANA | 1 | ENSG00000227051 |\n",
       "| 69 | C1orf21   | mesenchyme  |  0.000000e+00 | ENSG00000116667.8  | protein_coding | chr1  | 184356191 | 184598154 | + | KNOWN | HAVANA | 2 | ENSG00000116667 |\n",
       "| 94 | CBX5      | repl        |  0.000000e+00 | ENSG00000094916.9  | protein_coding | chr12 |  54624723 |  54673886 | - | KNOWN | HAVANA | 1 | ENSG00000094916 |\n",
       "| 119 | CDH6      | mesenchyme  |  0.000000e+00 | ENSG00000113361.8  | protein_coding | chr5  |  31193856 |  31329253 | + | KNOWN | HAVANA | 2 | ENSG00000113361 |\n",
       "| 120 | CDH6      | all_PPC     |  0.000000e+00 | ENSG00000113361.8  | protein_coding | chr5  |  31193856 |  31329253 | + | KNOWN | HAVANA | 2 | ENSG00000113361 |\n",
       "| 198 | DIAPH2    | iPSC        |  0.000000e+00 | ENSG00000147202.13 | protein_coding | chrX  |  95939661 |  96859996 | + | KNOWN | HAVANA | 2 | ENSG00000147202 |\n",
       "| 260 | FNDC3B    | delta_PPC   |  1.102016e-07 | ENSG00000075420.8  | protein_coding | chr3  | 171757417 | 172119455 | + | KNOWN | HAVANA | 2 | ENSG00000075420 |\n",
       "| 352 | ITGA1     | endothelial |  0.000000e+00 | ENSG00000213949.4  | protein_coding | chr5  |  52083729 |  52255040 | + | KNOWN | HAVANA | 2 | ENSG00000213949 |\n",
       "| 368 | KIAA1244  | endrocrine  | 6.974633e-172 | ENSG00000112379.8  | protein_coding | chr6  | 138483057 | 138665800 | + | KNOWN | HAVANA | 2 | ENSG00000112379 |\n",
       "| 392 | LIMA1     | delta_PPC   |  9.359236e-06 | ENSG00000050405.9  | protein_coding | chr12 |  50569570 |  50677329 | - | KNOWN | HAVANA | 2 | ENSG00000050405 |\n",
       "| 468 | ONECUT2   | mesenchyme  |  0.000000e+00 | ENSG00000119547.5  | protein_coding | chr18 |  55102916 |  55158529 | + | KNOWN | HAVANA | 2 | ENSG00000119547 |\n",
       "| 513 | PRTG      | mesenchyme  |  0.000000e+00 | ENSG00000166450.8  | protein_coding | chr15 |  55903743 |  56035288 | - | KNOWN | HAVANA | 1 | ENSG00000166450 |\n",
       "| 619 | SSTR2     | endrocrine  |  0.000000e+00 | ENSG00000180616.4  | protein_coding | chr17 |  71161150 |  71167185 | + | KNOWN | HAVANA | 2 | ENSG00000180616 |\n",
       "| 620 | STC1      | endothelial |  0.000000e+00 | ENSG00000159167.7  | protein_coding | chr8  |  23699427 |  23712320 | - | KNOWN | HAVANA | 1 | ENSG00000159167 |\n",
       "| 628 | TCF4      | mesenchyme  |  0.000000e+00 | ENSG00000196628.9  | protein_coding | chr18 |  52889561 |  53332018 | - | KNOWN | HAVANA | 1 | ENSG00000196628 |\n",
       "| 629 | TCF4      | endothelial |  0.000000e+00 | ENSG00000196628.9  | protein_coding | chr18 |  52889561 |  53332018 | - | KNOWN | HAVANA | 1 | ENSG00000196628 |\n",
       "| 641 | TIMP3     | endothelial |  0.000000e+00 | ENSG00000100234.11 | protein_coding | chr22 |  33197686 |  33259030 | + | KNOWN | HAVANA | 2 | ENSG00000100234 |\n",
       "| 648 | TMEM123   | delta_PPC   |  3.837754e-02 | ENSG00000152558.10 | protein_coding | chr11 | 102267062 | 102341115 | - | KNOWN | HAVANA | 2 | ENSG00000152558 |\n",
       "\n"
      ],
      "text/plain": [
       "    gene_name celltype    qval          gene_id            gene_type      chrom\n",
       "1   A1CF      endrocrine  3.162820e-190 ENSG00000148584.10 protein_coding chr10\n",
       "52  BCAT1     mesenchyme   0.000000e+00 ENSG00000060982.10 protein_coding chr12\n",
       "56  BIRC5     repl         0.000000e+00 ENSG00000089685.10 protein_coding chr17\n",
       "57  BIRC5     iPSC         0.000000e+00 ENSG00000089685.10 protein_coding chr17\n",
       "66  C14orf132 endrocrine  3.590598e-199 ENSG00000227051.4  protein_coding chr14\n",
       "69  C1orf21   mesenchyme   0.000000e+00 ENSG00000116667.8  protein_coding chr1 \n",
       "94  CBX5      repl         0.000000e+00 ENSG00000094916.9  protein_coding chr12\n",
       "119 CDH6      mesenchyme   0.000000e+00 ENSG00000113361.8  protein_coding chr5 \n",
       "120 CDH6      all_PPC      0.000000e+00 ENSG00000113361.8  protein_coding chr5 \n",
       "198 DIAPH2    iPSC         0.000000e+00 ENSG00000147202.13 protein_coding chrX \n",
       "260 FNDC3B    delta_PPC    1.102016e-07 ENSG00000075420.8  protein_coding chr3 \n",
       "352 ITGA1     endothelial  0.000000e+00 ENSG00000213949.4  protein_coding chr5 \n",
       "368 KIAA1244  endrocrine  6.974633e-172 ENSG00000112379.8  protein_coding chr6 \n",
       "392 LIMA1     delta_PPC    9.359236e-06 ENSG00000050405.9  protein_coding chr12\n",
       "468 ONECUT2   mesenchyme   0.000000e+00 ENSG00000119547.5  protein_coding chr18\n",
       "513 PRTG      mesenchyme   0.000000e+00 ENSG00000166450.8  protein_coding chr15\n",
       "619 SSTR2     endrocrine   0.000000e+00 ENSG00000180616.4  protein_coding chr17\n",
       "620 STC1      endothelial  0.000000e+00 ENSG00000159167.7  protein_coding chr8 \n",
       "628 TCF4      mesenchyme   0.000000e+00 ENSG00000196628.9  protein_coding chr18\n",
       "629 TCF4      endothelial  0.000000e+00 ENSG00000196628.9  protein_coding chr18\n",
       "641 TIMP3     endothelial  0.000000e+00 ENSG00000100234.11 protein_coding chr22\n",
       "648 TMEM123   delta_PPC    3.837754e-02 ENSG00000152558.10 protein_coding chr11\n",
       "    start     end       strand gene_status source level gene           \n",
       "1    52559168  52645435 -      KNOWN       HAVANA 2     ENSG00000148584\n",
       "52   24964294  25102393 -      KNOWN       HAVANA 2     ENSG00000060982\n",
       "56   76210266  76221717 +      KNOWN       HAVANA 2     ENSG00000089685\n",
       "57   76210266  76221717 +      KNOWN       HAVANA 2     ENSG00000089685\n",
       "66   96505660  96560417 +      KNOWN       HAVANA 1     ENSG00000227051\n",
       "69  184356191 184598154 +      KNOWN       HAVANA 2     ENSG00000116667\n",
       "94   54624723  54673886 -      KNOWN       HAVANA 1     ENSG00000094916\n",
       "119  31193856  31329253 +      KNOWN       HAVANA 2     ENSG00000113361\n",
       "120  31193856  31329253 +      KNOWN       HAVANA 2     ENSG00000113361\n",
       "198  95939661  96859996 +      KNOWN       HAVANA 2     ENSG00000147202\n",
       "260 171757417 172119455 +      KNOWN       HAVANA 2     ENSG00000075420\n",
       "352  52083729  52255040 +      KNOWN       HAVANA 2     ENSG00000213949\n",
       "368 138483057 138665800 +      KNOWN       HAVANA 2     ENSG00000112379\n",
       "392  50569570  50677329 -      KNOWN       HAVANA 2     ENSG00000050405\n",
       "468  55102916  55158529 +      KNOWN       HAVANA 2     ENSG00000119547\n",
       "513  55903743  56035288 -      KNOWN       HAVANA 1     ENSG00000166450\n",
       "619  71161150  71167185 +      KNOWN       HAVANA 2     ENSG00000180616\n",
       "620  23699427  23712320 -      KNOWN       HAVANA 1     ENSG00000159167\n",
       "628  52889561  53332018 -      KNOWN       HAVANA 1     ENSG00000196628\n",
       "629  52889561  53332018 -      KNOWN       HAVANA 1     ENSG00000196628\n",
       "641  33197686  33259030 +      KNOWN       HAVANA 2     ENSG00000100234\n",
       "648 102267062 102341115 -      KNOWN       HAVANA 2     ENSG00000152558"
      ]
     },
     "metadata": {},
     "output_type": "display_data"
    }
   ],
   "source": [
    "interesting_genes.annotated[interesting_genes.annotated$gene %in% apa_interesting$gene, ]"
   ]
  },
  {
   "cell_type": "code",
   "execution_count": 221,
   "metadata": {},
   "outputs": [
    {
     "data": {
      "text/html": [
       "'ENSG00000148584.10, ENSG00000060982.10, ENSG00000089685.10, ENSG00000227051.4, ENSG00000116667.8, ENSG00000094916.9, ENSG00000113361.8, ENSG00000147202.13, ENSG00000075420.8, ENSG00000213949.4, ENSG00000112379.8, ENSG00000050405.9, ENSG00000119547.5, ENSG00000166450.8, ENSG00000180616.4, ENSG00000159167.7, ENSG00000196628.9, ENSG00000100234.11, ENSG00000152558.10'"
      ],
      "text/latex": [
       "'ENSG00000148584.10, ENSG00000060982.10, ENSG00000089685.10, ENSG00000227051.4, ENSG00000116667.8, ENSG00000094916.9, ENSG00000113361.8, ENSG00000147202.13, ENSG00000075420.8, ENSG00000213949.4, ENSG00000112379.8, ENSG00000050405.9, ENSG00000119547.5, ENSG00000166450.8, ENSG00000180616.4, ENSG00000159167.7, ENSG00000196628.9, ENSG00000100234.11, ENSG00000152558.10'"
      ],
      "text/markdown": [
       "'ENSG00000148584.10, ENSG00000060982.10, ENSG00000089685.10, ENSG00000227051.4, ENSG00000116667.8, ENSG00000094916.9, ENSG00000113361.8, ENSG00000147202.13, ENSG00000075420.8, ENSG00000213949.4, ENSG00000112379.8, ENSG00000050405.9, ENSG00000119547.5, ENSG00000166450.8, ENSG00000180616.4, ENSG00000159167.7, ENSG00000196628.9, ENSG00000100234.11, ENSG00000152558.10'"
      ],
      "text/plain": [
       "[1] \"ENSG00000148584.10, ENSG00000060982.10, ENSG00000089685.10, ENSG00000227051.4, ENSG00000116667.8, ENSG00000094916.9, ENSG00000113361.8, ENSG00000147202.13, ENSG00000075420.8, ENSG00000213949.4, ENSG00000112379.8, ENSG00000050405.9, ENSG00000119547.5, ENSG00000166450.8, ENSG00000180616.4, ENSG00000159167.7, ENSG00000196628.9, ENSG00000100234.11, ENSG00000152558.10\""
      ]
     },
     "metadata": {},
     "output_type": "display_data"
    }
   ],
   "source": [
    "toString(unique(interesting_genes.annotated[interesting_genes.annotated$gene %in% apa_interesting$gene, ]$gene_id))"
   ]
  }
 ],
 "metadata": {
  "kernelspec": {
   "display_name": "R 3.5.1",
   "language": "R",
   "name": "ir351"
  },
  "language_info": {
   "codemirror_mode": "r",
   "file_extension": ".r",
   "mimetype": "text/x-r-source",
   "name": "R",
   "pygments_lexer": "r",
   "version": "3.5.1"
  }
 },
 "nbformat": 4,
 "nbformat_minor": 2
}
