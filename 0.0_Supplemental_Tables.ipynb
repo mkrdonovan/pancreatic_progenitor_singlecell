{
 "cells": [
  {
   "cell_type": "code",
   "execution_count": 24,
   "metadata": {},
   "outputs": [],
   "source": [
    "out = \"/home/mdonovan/pancreas_scRNA_map/Table/Final/\""
   ]
  },
  {
   "cell_type": "markdown",
   "metadata": {},
   "source": [
    "# Table 1\n",
    "\n",
    "Description of samples in study, %PDX1+/NKX6-1, and UUIDs for all sequencing data"
   ]
  },
  {
   "cell_type": "code",
   "execution_count": 25,
   "metadata": {},
   "outputs": [],
   "source": [
    "table_count = 1"
   ]
  },
  {
   "cell_type": "code",
   "execution_count": 12,
   "metadata": {},
   "outputs": [],
   "source": [
    "t1 = read.csv(\"../Table/Table S1_Clinical and Molecular Metadata_V03.csv\")"
   ]
  },
  {
   "cell_type": "code",
   "execution_count": 16,
   "metadata": {},
   "outputs": [],
   "source": [
    "t1 = t1[! t1$UDID == \"PPC_069\", ]"
   ]
  },
  {
   "cell_type": "code",
   "execution_count": 18,
   "metadata": {},
   "outputs": [],
   "source": [
    "t1$Bulk_ATAC.seq_UUID <- NULL\n",
    "t1$bulk_RNAseq_UUID   <- NULL"
   ]
  },
  {
   "cell_type": "code",
   "execution_count": 22,
   "metadata": {},
   "outputs": [],
   "source": [
    "colnames(t1) <- c(\"Subject_UUID\", \"Sex\", \"Ethinicity\", \"iPSCORE_Family\", \"Cell_type\", \"UDID\", \"PDX1_pos\", \"PDX1.NKX61_pos\", \"WGS_UUID\",\n",
    "                  \"scRNAseq_live_UUID\", \"scRNAseq_Cryporeserved_UUID\", \"scRNAseq_Cryporeserved_Pool_scheme\", \"snATACseq._UUID\",\n",
    "                  \"snATACseq._Pool_scheme\")"
   ]
  },
  {
   "cell_type": "code",
   "execution_count": 27,
   "metadata": {},
   "outputs": [],
   "source": [
    "write.csv(t1, file = paste(out, \"Table_\", table_count, \".csv\", sep = \"\"))"
   ]
  },
  {
   "cell_type": "code",
   "execution_count": 58,
   "metadata": {},
   "outputs": [],
   "source": [
    "table_count = table_count + 1"
   ]
  },
  {
   "cell_type": "markdown",
   "metadata": {},
   "source": [
    "# Table 2\n",
    "\n",
    "Demuxlet results for batch 1 cryopreserved scRNA-seq"
   ]
  },
  {
   "cell_type": "code",
   "execution_count": 122,
   "metadata": {},
   "outputs": [],
   "source": [
    "table_count = 2"
   ]
  },
  {
   "cell_type": "code",
   "execution_count": 115,
   "metadata": {},
   "outputs": [],
   "source": [
    "t2 = read.csv(\"../Table/Table_S2_Demuxlet_Results_V04.csv\")"
   ]
  },
  {
   "cell_type": "code",
   "execution_count": 116,
   "metadata": {},
   "outputs": [],
   "source": [
    "t2 = t2[! t2$Assay == \"snATAC_seq\", ]"
   ]
  },
  {
   "cell_type": "code",
   "execution_count": 117,
   "metadata": {},
   "outputs": [],
   "source": [
    "t2$Concordance_rate_singlets <- NULL\n",
    "t2$Concordance_rate_doublets <- NULL"
   ]
  },
  {
   "cell_type": "code",
   "execution_count": 118,
   "metadata": {},
   "outputs": [],
   "source": [
    "t2$Assay <- NULL"
   ]
  },
  {
   "cell_type": "code",
   "execution_count": 119,
   "metadata": {},
   "outputs": [],
   "source": [
    "t2$UDID <- t2$Subject\n",
    "t2$Subject <- NULL"
   ]
  },
  {
   "cell_type": "code",
   "execution_count": 120,
   "metadata": {},
   "outputs": [],
   "source": [
    "t2 = t2[, c(3, 1, 2)]"
   ]
  },
  {
   "cell_type": "code",
   "execution_count": 123,
   "metadata": {},
   "outputs": [],
   "source": [
    "write.csv(t2, file = paste(out, \"Table_\", table_count, \".csv\", sep = \"\"))"
   ]
  },
  {
   "cell_type": "markdown",
   "metadata": {},
   "source": [
    "# Table 3\n",
    "\n",
    "Demuxlet results for batch 2 cryopreserved scRNA-seq"
   ]
  },
  {
   "cell_type": "code",
   "execution_count": 106,
   "metadata": {},
   "outputs": [],
   "source": [
    "table_count = 3"
   ]
  },
  {
   "cell_type": "code",
   "execution_count": 107,
   "metadata": {},
   "outputs": [],
   "source": [
    "t3 = read.csv(\"../Table/Table_S3_Scrublet_Results_V01.csv\")"
   ]
  },
  {
   "cell_type": "code",
   "execution_count": 108,
   "metadata": {},
   "outputs": [],
   "source": [
    "colnames(t3) <- c(\"Assay\", \"Assay_UUID\", \"UDID\", \"Batch\", \"Cells\",\"Features\", \"Threshold\", \"Detected_doublet_rate\",\n",
    "                 \"Estimated_doublet_rate\", \"Expected_doublet_rate\", \"Estimated_doublet_rate.1\")"
   ]
  },
  {
   "cell_type": "code",
   "execution_count": 109,
   "metadata": {},
   "outputs": [],
   "source": [
    "t3$Expected_doublet_rate <- NULL\n",
    "t3$Estimated_doublet_rate.1 <- NULL"
   ]
  },
  {
   "cell_type": "code",
   "execution_count": 110,
   "metadata": {},
   "outputs": [],
   "source": [
    "t3 = t3[! t3$Assay == \"snATAC_seq\", ]"
   ]
  },
  {
   "cell_type": "code",
   "execution_count": 111,
   "metadata": {},
   "outputs": [],
   "source": [
    "t3$Assay <- NULL\n",
    "t3$Cells <- NULL\n",
    "t3$Features <- NULL"
   ]
  },
  {
   "cell_type": "code",
   "execution_count": 112,
   "metadata": {},
   "outputs": [],
   "source": [
    "t3$Estimated_doublet_rate <- NULL"
   ]
  },
  {
   "cell_type": "code",
   "execution_count": 113,
   "metadata": {},
   "outputs": [],
   "source": [
    "write.csv(t3, file = paste(out, \"Table_\", table_count, \".csv\", sep = \"\"))"
   ]
  }
 ],
 "metadata": {
  "kernelspec": {
   "display_name": "R 3.5.1",
   "language": "R",
   "name": "ir351"
  },
  "language_info": {
   "codemirror_mode": "r",
   "file_extension": ".r",
   "mimetype": "text/x-r-source",
   "name": "R",
   "pygments_lexer": "r",
   "version": "3.5.1"
  }
 },
 "nbformat": 4,
 "nbformat_minor": 2
}
