{
 "cells": [
  {
   "cell_type": "code",
   "execution_count": 64,
   "metadata": {},
   "outputs": [],
   "source": [
    "out = \"/home/mdonovan/pancreas_scRNA_map/Table/Final/\""
   ]
  },
  {
   "cell_type": "markdown",
   "metadata": {},
   "source": [
    "# Table 1\n",
    "\n",
    "Description of samples in study, %PDX1+/NKX6-1, and UUIDs for all sequencing data"
   ]
  },
  {
   "cell_type": "code",
   "execution_count": 65,
   "metadata": {},
   "outputs": [],
   "source": [
    "table_count = 1"
   ]
  },
  {
   "cell_type": "code",
   "execution_count": 66,
   "metadata": {},
   "outputs": [],
   "source": [
    "t1 = read.csv(\"../Table/Table S1_Clinical and Molecular Metadata_V03.csv\")"
   ]
  },
  {
   "cell_type": "code",
   "execution_count": 67,
   "metadata": {},
   "outputs": [],
   "source": [
    "t1 = t1[! t1$UDID == \"PPC_069\", ]"
   ]
  },
  {
   "cell_type": "code",
   "execution_count": 68,
   "metadata": {},
   "outputs": [],
   "source": [
    "t1$Bulk_ATAC.seq_UUID <- NULL\n",
    "t1$bulk_RNAseq_UUID   <- NULL"
   ]
  },
  {
   "cell_type": "code",
   "execution_count": 69,
   "metadata": {},
   "outputs": [],
   "source": [
    "colnames(t1) <- c(\"Subject_UUID\", \"Sex\", \"Ethinicity\", \"iPSCORE_Family\", \"Cell_type\", \"UDID\", \"PDX1_pos\", \"PDX1.NKX61_pos\", \"WGS_UUID\",\n",
    "                  \"scRNAseq_live_UUID\", \"scRNAseq_Cryporeserved_UUID\", \"scRNAseq_Cryporeserved_Pool_scheme\", \"snATACseq._UUID\",\n",
    "                  \"snATACseq._Pool_scheme\")"
   ]
  },
  {
   "cell_type": "code",
   "execution_count": 70,
   "metadata": {},
   "outputs": [],
   "source": [
    "write.csv(t1, file = paste(out, \"Table_\", table_count, \".csv\", sep = \"\"))"
   ]
  },
  {
   "cell_type": "markdown",
   "metadata": {},
   "source": [
    "# Table 2\n",
    "Differentially expressed genes from each cell type"
   ]
  },
  {
   "cell_type": "code",
   "execution_count": 72,
   "metadata": {},
   "outputs": [],
   "source": [
    "table_count = 2"
   ]
  },
  {
   "cell_type": "code",
   "execution_count": 73,
   "metadata": {},
   "outputs": [],
   "source": [
    "in.f = \"/projects/PPC/analysis/ppc_pilot/data/aggr_live_then_integrate/\"\n",
    "\n",
    "iPSC_markers        = read.table(paste(in.f, \"iPSC_markers.txt\", sep = \"\"))\n",
    "repl_markers        = read.table(paste(in.f, \"repl_markers.txt\", sep = \"\"))\n",
    "ppc_markers         = read.table(paste(in.f, \"all.ppc_markers.txt\", sep = \"\"))\n",
    "Endocrine_markers   = read.table(paste(in.f, \"Endocrine_markers.txt\", sep = \"\"))\n",
    "mesenchymal_markers = read.table(paste(in.f, \"mesenchymal_markers.txt\", sep = \"\"))\n",
    "endothelial_markers = read.table(paste(in.f, \"endothelial_markers.txt\", sep = \"\"))\n",
    "endothelial_markers = read.table(paste(in.f, \"non.ppc.c4_markers.txt\", sep = \"\"))"
   ]
  },
  {
   "cell_type": "code",
   "execution_count": 74,
   "metadata": {},
   "outputs": [],
   "source": [
    "AnnotateTableMarker <- function(df, celltype){\n",
    "    \n",
    "    df$marker_gene_name = rownames(df)\n",
    "    rownames(df) = NULL\n",
    "    df$cell_type <- celltype\n",
    "    df = df[, c(\"cell_type\", \"marker_gene_name\", \"p_val\", \"avg_logFC\", \"p_val_adj\")]\n",
    "    \n",
    "    return(df)\n",
    "    \n",
    "}"
   ]
  },
  {
   "cell_type": "code",
   "execution_count": 75,
   "metadata": {},
   "outputs": [],
   "source": [
    "t2 = rbind(AnnotateTableMarker(iPSC_markers, \"iPSC\"),\n",
    "           AnnotateTableMarker(repl_markers, \"Replicating cells\"),\n",
    "           AnnotateTableMarker(ppc_markers, \"PPCs (no PPC-sc4)\"),\n",
    "           AnnotateTableMarker(Endocrine_markers, \"Endocrine cells\"),\n",
    "           AnnotateTableMarker(mesenchymal_markers, \"Mesenchymal cells\"),\n",
    "           AnnotateTableMarker(endothelial_markers, \"Endothelial cells\"),\n",
    "           AnnotateTableMarker(ppc_markers, \"PPC-sc4\")\n",
    "     )"
   ]
  },
  {
   "cell_type": "code",
   "execution_count": 76,
   "metadata": {},
   "outputs": [],
   "source": [
    "write.csv(t2, file = paste(out, \"Table_\", table_count, \".csv\", sep = \"\"))"
   ]
  },
  {
   "cell_type": "markdown",
   "metadata": {},
   "source": [
    "# NO LONGER INCLUDED: Table 3\n",
    "GO enrichment of marker genes from each cell type"
   ]
  },
  {
   "cell_type": "code",
   "execution_count": 125,
   "metadata": {},
   "outputs": [],
   "source": [
    "table_count = 3"
   ]
  },
  {
   "cell_type": "code",
   "execution_count": 126,
   "metadata": {},
   "outputs": [],
   "source": [
    "in.f = \"/projects/PPC/analysis/ppc_pilot/data/aggr_live_then_integrate/\"\n",
    "\n",
    "gowall_ipsc        = read.table(paste(in.f, \"gowall_ipsc.txt\", sep = \"\"))\n",
    "gowall_repl        = read.table(paste(in.f, \"gowall_repl.txt\", sep = \"\"))\n",
    "gowall_mesenchyme  = read.table(paste(in.f, \"gowall_mesenchyme.txt\", sep = \"\"))\n",
    "gowall_endocrine   = read.table(paste(in.f, \"gowall_endocrine.txt\", sep = \"\"))\n",
    "gowall_endothelial = read.table(paste(in.f, \"gowall_endothelial.txt\", sep = \"\"))\n",
    "gowall_ppc         = read.table(paste(in.f, \"gowall_ppc.txt\", sep = \"\"))"
   ]
  },
  {
   "cell_type": "code",
   "execution_count": 127,
   "metadata": {},
   "outputs": [],
   "source": [
    "AnnotateTableGO <- function(df, celltype){\n",
    "    \n",
    "    rownames(df) = NULL\n",
    "    df$cell_type <- celltype\n",
    "    df = df[, c(\"cell_type\", \"category\", \"over_represented_pvalue\", \"under_represented_pvalue\", \"numDEInCat\", \"numInCat\", \"term\", \"ontology\", \"pvalue\", \"bonferroni\")]\n",
    "    return(df)\n",
    "    \n",
    "}"
   ]
  },
  {
   "cell_type": "code",
   "execution_count": 128,
   "metadata": {},
   "outputs": [],
   "source": [
    "t3 = rbind(AnnotateTableGO(gowall_ipsc, \"iPSC\"),\n",
    "           AnnotateTableGO(gowall_repl, \"Replicating cells\"),\n",
    "           AnnotateTableGO(gowall_ppc, \"PPCs (1, 2, 3, and 4)\"),\n",
    "           AnnotateTableGO(gowall_endocrine, \"Endocrine cells\"),\n",
    "           AnnotateTableGO(gowall_mesenchyme, \"Mesenchyme cells\"),\n",
    "           AnnotateTableGO(gowall_endothelial, \"Endothelial cells\")\n",
    "     )"
   ]
  },
  {
   "cell_type": "code",
   "execution_count": 129,
   "metadata": {},
   "outputs": [],
   "source": [
    "write.csv(t3, file = paste(out, \"Table_\", table_count, \".csv\", sep = \"\"))"
   ]
  },
  {
   "cell_type": "markdown",
   "metadata": {},
   "source": [
    "# Table 3\n",
    "\n",
    "PPC genes that linearly change over time"
   ]
  },
  {
   "cell_type": "code",
   "execution_count": 77,
   "metadata": {},
   "outputs": [],
   "source": [
    "in.f = \"/projects/PPC/analysis/ppc_pilot/data/aggr_live_then_integrate/\"\n",
    "lm_fit_coefs = read.table(paste(in.f, \"ppc_fit_coefs_frazer_ppc_allexpressedgenes_191212.txt\", sep = \"\"))"
   ]
  },
  {
   "cell_type": "code",
   "execution_count": 78,
   "metadata": {},
   "outputs": [],
   "source": [
    "table_count = 3"
   ]
  },
  {
   "cell_type": "code",
   "execution_count": 79,
   "metadata": {},
   "outputs": [],
   "source": [
    "# in.f = \"/projects/PPC/analysis/ppc_pilot/data/aggr_live_then_integrate/\"\n",
    "# lm_fit_coefs = read.table(paste(in.f, \"ppc_fit_coefs_frazer_ppc_allexpressedgenes.txt\", sep = \"\"))"
   ]
  },
  {
   "cell_type": "code",
   "execution_count": 80,
   "metadata": {},
   "outputs": [],
   "source": [
    "lm_fit_coefs$Type = NA\n",
    "lm_fit_coefs[lm_fit_coefs$q_value < 0.05 & lm_fit_coefs$estimate > 0, ]$Type = \"Class_1\"\n",
    "lm_fit_coefs[lm_fit_coefs$q_value < 0.05 & lm_fit_coefs$estimate < 0, ]$Type = \"Class_2\""
   ]
  },
  {
   "cell_type": "code",
   "execution_count": 81,
   "metadata": {},
   "outputs": [],
   "source": [
    "lm_fit_coefs = lm_fit_coefs[order(lm_fit_coefs$q_value), ]"
   ]
  },
  {
   "cell_type": "code",
   "execution_count": 82,
   "metadata": {},
   "outputs": [],
   "source": [
    "rownames(lm_fit_coefs) <- NULL"
   ]
  },
  {
   "cell_type": "code",
   "execution_count": 83,
   "metadata": {},
   "outputs": [
    {
     "data": {
      "text/plain": [
       "\n",
       "Class_1 Class_2 \n",
       "    222      80 "
      ]
     },
     "metadata": {},
     "output_type": "display_data"
    }
   ],
   "source": [
    "table(lm_fit_coefs$Type)"
   ]
  },
  {
   "cell_type": "code",
   "execution_count": 84,
   "metadata": {},
   "outputs": [],
   "source": [
    "write.csv(lm_fit_coefs, file = paste(out, \"Table_\", table_count, \".csv\", sep = \"\"))"
   ]
  },
  {
   "cell_type": "markdown",
   "metadata": {},
   "source": [
    "# Table 4\n",
    "PPC genes that change non-linearly over time (MFuzz membership matrix)"
   ]
  },
  {
   "cell_type": "code",
   "execution_count": 85,
   "metadata": {},
   "outputs": [],
   "source": [
    "table_count = 4"
   ]
  },
  {
   "cell_type": "code",
   "execution_count": 86,
   "metadata": {},
   "outputs": [],
   "source": [
    "in.f = \"/projects/PPC/analysis/ppc_pilot/data/aggr_live_then_integrate/\"\n",
    "mfuzz = read.table(paste(in.f, \"mfuzz_k10_b4_memberships_191213.txt\", sep = \"\"))"
   ]
  },
  {
   "cell_type": "code",
   "execution_count": 87,
   "metadata": {},
   "outputs": [],
   "source": [
    "mfuzz$Type = NA\n",
    "mfuzz[mfuzz$maxCol == 1 & mfuzz$real == TRUE, ]$Type = \"Class_3\"\n",
    "mfuzz[mfuzz$maxCol == 6 & mfuzz$real == TRUE, ]$Type = \"Class_4\"\n",
    "mfuzz = mfuzz[order(mfuzz$Type), ]\n",
    "mfuzz$maxCol <- NULL\n",
    "mfuzz$real <- NULL"
   ]
  },
  {
   "cell_type": "code",
   "execution_count": 88,
   "metadata": {},
   "outputs": [],
   "source": [
    "colnames(mfuzz) = c(\"Cluster_1\", \"Cluster_2\", \"Cluster_3\", \"Cluster_4\", \"Cluster_5\", \n",
    "                    \"Cluster_6\", \"Cluster_7\", \"Cluster_8\", \"Cluster_9\", \"Cluster_10\", \"Type\")"
   ]
  },
  {
   "cell_type": "code",
   "execution_count": 89,
   "metadata": {},
   "outputs": [
    {
     "data": {
      "text/plain": [
       "\n",
       "Class_3 Class_4 \n",
       "    611     613 "
      ]
     },
     "metadata": {},
     "output_type": "display_data"
    }
   ],
   "source": [
    "table(mfuzz$Type)"
   ]
  },
  {
   "cell_type": "code",
   "execution_count": 90,
   "metadata": {},
   "outputs": [],
   "source": [
    "write.csv(mfuzz, file = paste(out, \"Table_\", table_count, \".csv\", sep = \"\"))"
   ]
  },
  {
   "cell_type": "markdown",
   "metadata": {},
   "source": [
    "# Table 5"
   ]
  },
  {
   "cell_type": "code",
   "execution_count": 91,
   "metadata": {},
   "outputs": [],
   "source": [
    "table_count = 5"
   ]
  },
  {
   "cell_type": "code",
   "execution_count": 92,
   "metadata": {},
   "outputs": [],
   "source": [
    "in.f = \"/projects/PPC/analysis/ppc_pilot/data/aggr_live_then_integrate/\"\n",
    "go_up   = read.table(paste(in.f, \"gowall_ppc_up_191216.txt\", sep = \"\"))\n",
    "go_down = read.table(paste(in.f, \"gowall_ppc_down_191216.txt\", sep = \"\"))\n",
    "go_mid.up = read.table(paste(in.f, \"gowall_ppc_mid.up_191216.txt\", sep = \"\"))\n",
    "go_mid.down = read.table(paste(in.f, \"gowall_ppc_mid.down_191216.txt\", sep = \"\"))"
   ]
  },
  {
   "cell_type": "code",
   "execution_count": 93,
   "metadata": {},
   "outputs": [],
   "source": [
    "AnnotateTableGO2 <- function(df, celltype){\n",
    "    \n",
    "    rownames(df) = NULL\n",
    "    df$Type_gene_expression_change <- celltype\n",
    "    df = df[, c(\"Type_gene_expression_change\", \"category\", \"over_represented_pvalue\", \"under_represented_pvalue\", \"numDEInCat\", \"numInCat\", \"term\", \"ontology\", \"pvalue\", \"bonferroni\")]\n",
    "    return(df)\n",
    "    \n",
    "}"
   ]
  },
  {
   "cell_type": "code",
   "execution_count": 94,
   "metadata": {},
   "outputs": [],
   "source": [
    "t6 = rbind(AnnotateTableGO2(go_up,       \"Class_1\"),\n",
    "           AnnotateTableGO2(go_down,     \"Class_2\"),\n",
    "           AnnotateTableGO2(go_mid.up,   \"Class_3\"),\n",
    "           AnnotateTableGO2(go_mid.down, \"Class_4\")\n",
    "     )"
   ]
  },
  {
   "cell_type": "code",
   "execution_count": 95,
   "metadata": {},
   "outputs": [],
   "source": [
    "write.csv(t6, file = paste(out, \"Table_\", table_count, \".csv\", sep = \"\"))"
   ]
  },
  {
   "cell_type": "markdown",
   "metadata": {},
   "source": [
    "# Table 8\n",
    "\n",
    "Demuxlet results for batch 1 cryopreserved scRNA-seq"
   ]
  },
  {
   "cell_type": "code",
   "execution_count": 96,
   "metadata": {},
   "outputs": [],
   "source": [
    "table_count = 8"
   ]
  },
  {
   "cell_type": "code",
   "execution_count": 97,
   "metadata": {},
   "outputs": [],
   "source": [
    "t2 = read.csv(\"../Table/Table_S2_Demuxlet_Results_V04.csv\")"
   ]
  },
  {
   "cell_type": "code",
   "execution_count": 98,
   "metadata": {},
   "outputs": [],
   "source": [
    "t2 = t2[! t2$Assay == \"snATAC_seq\", ]"
   ]
  },
  {
   "cell_type": "code",
   "execution_count": 99,
   "metadata": {},
   "outputs": [],
   "source": [
    "t2$Concordance_rate_singlets <- NULL\n",
    "t2$Concordance_rate_doublets <- NULL"
   ]
  },
  {
   "cell_type": "code",
   "execution_count": 100,
   "metadata": {},
   "outputs": [],
   "source": [
    "t2$Assay <- NULL"
   ]
  },
  {
   "cell_type": "code",
   "execution_count": 101,
   "metadata": {},
   "outputs": [],
   "source": [
    "t2$UDID <- t2$Subject\n",
    "t2$Subject <- NULL"
   ]
  },
  {
   "cell_type": "code",
   "execution_count": 102,
   "metadata": {},
   "outputs": [],
   "source": [
    "t2 = t2[, c(3, 1, 2)]"
   ]
  },
  {
   "cell_type": "code",
   "execution_count": 103,
   "metadata": {},
   "outputs": [],
   "source": [
    "write.csv(t2, file = paste(out, \"Table_\", table_count, \".csv\", sep = \"\"))"
   ]
  },
  {
   "cell_type": "markdown",
   "metadata": {},
   "source": [
    "# Table 9\n",
    "\n",
    "Demuxlet results for batch 2 cryopreserved scRNA-seq"
   ]
  },
  {
   "cell_type": "code",
   "execution_count": 104,
   "metadata": {},
   "outputs": [],
   "source": [
    "table_count = 9"
   ]
  },
  {
   "cell_type": "code",
   "execution_count": 105,
   "metadata": {},
   "outputs": [],
   "source": [
    "t3 = read.csv(\"../Table/Table_S3_Scrublet_Results_V01.csv\")"
   ]
  },
  {
   "cell_type": "code",
   "execution_count": 106,
   "metadata": {},
   "outputs": [],
   "source": [
    "colnames(t3) <- c(\"Assay\", \"Assay_UUID\", \"UDID\", \"Batch\", \"Cells\",\"Features\", \"Threshold\", \"Detected_doublet_rate\",\n",
    "                 \"Estimated_doublet_rate\", \"Expected_doublet_rate\", \"Estimated_doublet_rate.1\")"
   ]
  },
  {
   "cell_type": "code",
   "execution_count": 107,
   "metadata": {},
   "outputs": [],
   "source": [
    "t3$Expected_doublet_rate <- NULL\n",
    "t3$Estimated_doublet_rate.1 <- NULL"
   ]
  },
  {
   "cell_type": "code",
   "execution_count": 108,
   "metadata": {},
   "outputs": [],
   "source": [
    "t3 = t3[! t3$Assay == \"snATAC_seq\", ]"
   ]
  },
  {
   "cell_type": "code",
   "execution_count": 109,
   "metadata": {},
   "outputs": [],
   "source": [
    "t3$Assay <- NULL\n",
    "t3$Cells <- NULL\n",
    "t3$Features <- NULL"
   ]
  },
  {
   "cell_type": "code",
   "execution_count": 110,
   "metadata": {},
   "outputs": [],
   "source": [
    "t3$Estimated_doublet_rate <- NULL"
   ]
  },
  {
   "cell_type": "code",
   "execution_count": 111,
   "metadata": {},
   "outputs": [],
   "source": [
    "write.csv(t3, file = paste(out, \"Table_\", table_count, \".csv\", sep = \"\"))"
   ]
  }
 ],
 "metadata": {
  "kernelspec": {
   "display_name": "R 3.5.1",
   "language": "R",
   "name": "ir351"
  },
  "language_info": {
   "codemirror_mode": "r",
   "file_extension": ".r",
   "mimetype": "text/x-r-source",
   "name": "R",
   "pygments_lexer": "r",
   "version": "3.5.1"
  }
 },
 "nbformat": 4,
 "nbformat_minor": 2
}
