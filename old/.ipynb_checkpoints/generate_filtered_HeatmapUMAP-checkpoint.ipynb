{
 "cells": [
  {
   "cell_type": "code",
   "execution_count": 1,
   "metadata": {},
   "outputs": [
    {
     "name": "stderr",
     "output_type": "stream",
     "text": [
      "\n",
      "Attaching package: ‘dplyr’\n",
      "\n",
      "The following objects are masked from ‘package:stats’:\n",
      "\n",
      "    filter, lag\n",
      "\n",
      "The following objects are masked from ‘package:base’:\n",
      "\n",
      "    intersect, setdiff, setequal, union\n",
      "\n",
      "Loading required package: viridisLite\n"
     ]
    }
   ],
   "source": [
    "library(Seurat, lib = \"/frazer01/home/mdonovan/alt_r_library/\")\n",
    "library(dplyr)\n",
    "library(biomaRt)\n",
    "library(stringr)\n",
    "library(viridis)"
   ]
  },
  {
   "cell_type": "code",
   "execution_count": 2,
   "metadata": {},
   "outputs": [],
   "source": [
    "marker_genes <- c(\"INS\", \"NKX6-1\", \"NPTX2\", \"ITGA1\", \"PCSK1\",\n",
    "                         \"GCG\", \"DPP4\",   \"ARX\",   \"IRX2\",  \"ETV1\",\n",
    "                         \"TPH1\", \"SLC18A1\", \"LMX1A\", \"ADRA2A\", \"MME\",\n",
    "                         \"CHGA\", \"FEV\", \"SYP\", \"CPE\", \"CDKN1C\",\n",
    "                         \"SOX9\", \"PTF1A\", \"PDX1\",\n",
    "                         \"TOP2A\", \"AURKB\", \"ISL1\", \"PAX4\", \"NEUROG3\")"
   ]
  },
  {
   "cell_type": "code",
   "execution_count": 3,
   "metadata": {},
   "outputs": [],
   "source": [
    "robjs = list.files(path =\"/projects/PPC/analysis/ppc_pilot/data/robjs\", full.names = T)\n",
    "robjs = robjs[!robjs %in% robjs[grep(\"unfiltered\", robjs)]] #remove unfiltered, because UMAP was not calculated\n",
    "robjs = robjs[robjs %in% robjs[grep(\"filtered\", robjs)]] #remove unfiltered, because UMAP was not calculated"
   ]
  },
  {
   "cell_type": "code",
   "execution_count": 8,
   "metadata": {},
   "outputs": [
    {
     "data": {
      "text/html": [
       "<ol class=list-inline>\n",
       "\t<li>'/projects/PPC/analysis/ppc_pilot/data/robjs/Frazer_merged_seurat_filtered.robj'</li>\n",
       "\t<li>'/projects/PPC/analysis/ppc_pilot/data/robjs/PPC023_PPC_fresh_seurat_filtered.robj'</li>\n",
       "\t<li>'/projects/PPC/analysis/ppc_pilot/data/robjs/PPC027_PPC_fresh_seurat_filtered.robj'</li>\n",
       "\t<li>'/projects/PPC/analysis/ppc_pilot/data/robjs/PPC028_PPC_fresh_seurat_filtered.robj'</li>\n",
       "\t<li>'/projects/PPC/analysis/ppc_pilot/data/robjs/PPC029_PPC_fresh_seurat_filtered.robj'</li>\n",
       "\t<li>'/projects/PPC/analysis/ppc_pilot/data/robjs/PPC030_PPC_fresh_seurat_filtered.robj'</li>\n",
       "\t<li>'/projects/PPC/analysis/ppc_pilot/data/robjs/PPC034_iPSC_fresh_seurat_filtered.robj'</li>\n",
       "\t<li>'/projects/PPC/analysis/ppc_pilot/data/robjs/PPC034_PPC_fresh_seurat_filtered.robj'</li>\n",
       "\t<li>'/projects/PPC/analysis/ppc_pilot/data/robjs/PPC036_PPC_fresh_seurat_filtered.robj'</li>\n",
       "\t<li>'/projects/PPC/analysis/ppc_pilot/data/robjs/PPC_fresh_merged_seurat_filtered.robj'</li>\n",
       "\t<li>'/projects/PPC/analysis/ppc_pilot/data/robjs/PPC_frozen_seurat_filtered.robj'</li>\n",
       "</ol>\n"
      ],
      "text/latex": [
       "\\begin{enumerate*}\n",
       "\\item '/projects/PPC/analysis/ppc\\_pilot/data/robjs/Frazer\\_merged\\_seurat\\_filtered.robj'\n",
       "\\item '/projects/PPC/analysis/ppc\\_pilot/data/robjs/PPC023\\_PPC\\_fresh\\_seurat\\_filtered.robj'\n",
       "\\item '/projects/PPC/analysis/ppc\\_pilot/data/robjs/PPC027\\_PPC\\_fresh\\_seurat\\_filtered.robj'\n",
       "\\item '/projects/PPC/analysis/ppc\\_pilot/data/robjs/PPC028\\_PPC\\_fresh\\_seurat\\_filtered.robj'\n",
       "\\item '/projects/PPC/analysis/ppc\\_pilot/data/robjs/PPC029\\_PPC\\_fresh\\_seurat\\_filtered.robj'\n",
       "\\item '/projects/PPC/analysis/ppc\\_pilot/data/robjs/PPC030\\_PPC\\_fresh\\_seurat\\_filtered.robj'\n",
       "\\item '/projects/PPC/analysis/ppc\\_pilot/data/robjs/PPC034\\_iPSC\\_fresh\\_seurat\\_filtered.robj'\n",
       "\\item '/projects/PPC/analysis/ppc\\_pilot/data/robjs/PPC034\\_PPC\\_fresh\\_seurat\\_filtered.robj'\n",
       "\\item '/projects/PPC/analysis/ppc\\_pilot/data/robjs/PPC036\\_PPC\\_fresh\\_seurat\\_filtered.robj'\n",
       "\\item '/projects/PPC/analysis/ppc\\_pilot/data/robjs/PPC\\_fresh\\_merged\\_seurat\\_filtered.robj'\n",
       "\\item '/projects/PPC/analysis/ppc\\_pilot/data/robjs/PPC\\_frozen\\_seurat\\_filtered.robj'\n",
       "\\end{enumerate*}\n"
      ],
      "text/markdown": [
       "1. '/projects/PPC/analysis/ppc_pilot/data/robjs/Frazer_merged_seurat_filtered.robj'\n",
       "2. '/projects/PPC/analysis/ppc_pilot/data/robjs/PPC023_PPC_fresh_seurat_filtered.robj'\n",
       "3. '/projects/PPC/analysis/ppc_pilot/data/robjs/PPC027_PPC_fresh_seurat_filtered.robj'\n",
       "4. '/projects/PPC/analysis/ppc_pilot/data/robjs/PPC028_PPC_fresh_seurat_filtered.robj'\n",
       "5. '/projects/PPC/analysis/ppc_pilot/data/robjs/PPC029_PPC_fresh_seurat_filtered.robj'\n",
       "6. '/projects/PPC/analysis/ppc_pilot/data/robjs/PPC030_PPC_fresh_seurat_filtered.robj'\n",
       "7. '/projects/PPC/analysis/ppc_pilot/data/robjs/PPC034_iPSC_fresh_seurat_filtered.robj'\n",
       "8. '/projects/PPC/analysis/ppc_pilot/data/robjs/PPC034_PPC_fresh_seurat_filtered.robj'\n",
       "9. '/projects/PPC/analysis/ppc_pilot/data/robjs/PPC036_PPC_fresh_seurat_filtered.robj'\n",
       "10. '/projects/PPC/analysis/ppc_pilot/data/robjs/PPC_fresh_merged_seurat_filtered.robj'\n",
       "11. '/projects/PPC/analysis/ppc_pilot/data/robjs/PPC_frozen_seurat_filtered.robj'\n",
       "\n",
       "\n"
      ],
      "text/plain": [
       " [1] \"/projects/PPC/analysis/ppc_pilot/data/robjs/Frazer_merged_seurat_filtered.robj\"    \n",
       " [2] \"/projects/PPC/analysis/ppc_pilot/data/robjs/PPC023_PPC_fresh_seurat_filtered.robj\" \n",
       " [3] \"/projects/PPC/analysis/ppc_pilot/data/robjs/PPC027_PPC_fresh_seurat_filtered.robj\" \n",
       " [4] \"/projects/PPC/analysis/ppc_pilot/data/robjs/PPC028_PPC_fresh_seurat_filtered.robj\" \n",
       " [5] \"/projects/PPC/analysis/ppc_pilot/data/robjs/PPC029_PPC_fresh_seurat_filtered.robj\" \n",
       " [6] \"/projects/PPC/analysis/ppc_pilot/data/robjs/PPC030_PPC_fresh_seurat_filtered.robj\" \n",
       " [7] \"/projects/PPC/analysis/ppc_pilot/data/robjs/PPC034_iPSC_fresh_seurat_filtered.robj\"\n",
       " [8] \"/projects/PPC/analysis/ppc_pilot/data/robjs/PPC034_PPC_fresh_seurat_filtered.robj\" \n",
       " [9] \"/projects/PPC/analysis/ppc_pilot/data/robjs/PPC036_PPC_fresh_seurat_filtered.robj\" \n",
       "[10] \"/projects/PPC/analysis/ppc_pilot/data/robjs/PPC_fresh_merged_seurat_filtered.robj\" \n",
       "[11] \"/projects/PPC/analysis/ppc_pilot/data/robjs/PPC_frozen_seurat_filtered.robj\"       "
      ]
     },
     "metadata": {},
     "output_type": "display_data"
    }
   ],
   "source": [
    "robjs"
   ]
  },
  {
   "cell_type": "code",
   "execution_count": 14,
   "metadata": {},
   "outputs": [
    {
     "name": "stdout",
     "output_type": "stream",
     "text": [
      "[1] 10\n",
      "[1] \"/projects/PPC/analysis/ppc_pilot/data/robjs/PPC_fresh_merged_seurat_filtered.robj\"\n"
     ]
    },
    {
     "data": {
      "text/html": [
       "<strong>png:</strong> 2"
      ],
      "text/latex": [
       "\\textbf{png:} 2"
      ],
      "text/markdown": [
       "**png:** 2"
      ],
      "text/plain": [
       "png \n",
       "  2 "
      ]
     },
     "metadata": {},
     "output_type": "display_data"
    },
    {
     "name": "stderr",
     "output_type": "stream",
     "text": [
      "Warning message in DoHeatmap(tiss, features = toupper(unique(marker_genes))):\n",
      "“The following features were omitted as they were not found in the scale.data slot for the RNA assay: MME, ADRA2A, ETV1”Scale for 'fill' is already present. Adding another scale for 'fill', which\n",
      "will replace the existing scale.\n"
     ]
    },
    {
     "data": {
      "text/html": [
       "<strong>png:</strong> 2"
      ],
      "text/latex": [
       "\\textbf{png:} 2"
      ],
      "text/markdown": [
       "**png:** 2"
      ],
      "text/plain": [
       "png \n",
       "  2 "
      ]
     },
     "metadata": {},
     "output_type": "display_data"
    }
   ],
   "source": [
    "count = 10\n",
    "print(count)\n",
    "f = robjs[count]\n",
    "print(f)\n",
    "sample_name = tools::file_path_sans_ext(basename(f))\n",
    "load(f)\n",
    "tiss = tiss\n",
    "png(file = paste(\"/projects/PPC/analysis/ppc_pilot/data/UMAP/\", sample_name, \"_UMAP.png\",sep = \"\"), width = 5, height = 5, units = \"in\", res = 300)\n",
    "DimPlot(tiss, reduction.use = \"umap\", label = TRUE, pt.size = 1,\n",
    "        vector.friendly = T, png.file = paste(\"./UMAP/\", sample_name, \"_UMAP.png\",sep = \"\"),\n",
    "        png.arguments = c(10, 5, 300), do.return=TRUE)\n",
    "dev.off()\n",
    "\n",
    "pdf(paste(\"/projects/PPC/analysis/ppc_pilot/data/gene_expression/\", sample_name, \"_heatmap.pdf\",sep = \"\"), height = 5, width = 10)\n",
    "DoHeatmap(tiss, features = toupper(unique(marker_genes))) + scale_fill_viridis() #+ NoLegend()\n",
    "dev.off()"
   ]
  },
  {
   "cell_type": "code",
   "execution_count": 25,
   "metadata": {},
   "outputs": [
    {
     "data": {
      "text/plain": [
       "An object of class Seurat \n",
       "57820 features across 76868 samples within 1 assay \n",
       "Active assay: RNA (57820 features)\n",
       " 2 dimensional reductions calculated: pca, umap"
      ]
     },
     "metadata": {},
     "output_type": "display_data"
    }
   ],
   "source": [
    "tiss"
   ]
  },
  {
   "cell_type": "code",
   "execution_count": 26,
   "metadata": {},
   "outputs": [
    {
     "data": {
      "text/html": [
       "<strong>png:</strong> 2"
      ],
      "text/latex": [
       "\\textbf{png:} 2"
      ],
      "text/markdown": [
       "**png:** 2"
      ],
      "text/plain": [
       "png \n",
       "  2 "
      ]
     },
     "metadata": {},
     "output_type": "display_data"
    }
   ],
   "source": [
    "require(scales)\n",
    "pdf(paste(\"/projects/PPC/analysis/ppc_pilot/data/UMAP/\", sample_name, \"_cluster_barplot.pdf\",sep = \"\"), height = 5, width = 7)\n",
    "identities <- levels(Idents(object = tiss))\n",
    "my_color_palette <- hue_pal()(length(identities))\n",
    "x = as.data.frame(table(tiss@meta.data$RNA_snn_res.0.5))\n",
    "x$perc = x$Freq / sum(x$Freq)\n",
    "barplot(x$perc, las = 1, xlab = \"Cluster\", ylab = \"Fraction cells\", ylim = c(0, .20), col = my_color_palette, names.arg = x$Var1)\n",
    "dev.off()"
   ]
  },
  {
   "cell_type": "code",
   "execution_count": null,
   "metadata": {},
   "outputs": [],
   "source": [
    "tiss = "
   ]
  }
 ],
 "metadata": {
  "kernelspec": {
   "display_name": "R 3.5.1",
   "language": "R",
   "name": "ir351"
  },
  "language_info": {
   "codemirror_mode": "r",
   "file_extension": ".r",
   "mimetype": "text/x-r-source",
   "name": "R",
   "pygments_lexer": "r",
   "version": "3.5.1"
  }
 },
 "nbformat": 4,
 "nbformat_minor": 2
}
