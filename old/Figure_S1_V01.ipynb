{
 "cells": [
  {
   "cell_type": "code",
   "execution_count": 9,
   "metadata": {},
   "outputs": [],
   "source": [
    "library(Seurat)\n",
    "library(stringr)"
   ]
  },
  {
   "cell_type": "code",
   "execution_count": 2,
   "metadata": {},
   "outputs": [],
   "source": [
    "out = \"/projects/PPC/analysis/ppc_pilot/data/robjs/\""
   ]
  },
  {
   "cell_type": "code",
   "execution_count": 2,
   "metadata": {},
   "outputs": [
    {
     "name": "stdout",
     "output_type": "stream",
     "text": [
      "Loading objects:\n",
      "  tiss\n"
     ]
    }
   ],
   "source": [
    "load(paste(out, \"raw_frazer_scRNA.robj\", sep = \"\"), verbose = T)"
   ]
  },
  {
   "cell_type": "code",
   "execution_count": 3,
   "metadata": {},
   "outputs": [
    {
     "name": "stdout",
     "output_type": "stream",
     "text": [
      "Loading objects:\n",
      "  tiss.filtered\n"
     ]
    }
   ],
   "source": [
    "load(paste(out, \"filtered_frazer_scRNA.robj\", sep = \"\"), verbose = T)"
   ]
  },
  {
   "cell_type": "code",
   "execution_count": 4,
   "metadata": {},
   "outputs": [
    {
     "name": "stdout",
     "output_type": "stream",
     "text": [
      "Loading objects:\n",
      "  tiss.filtered_adjusted\n"
     ]
    }
   ],
   "source": [
    "load(paste(out, \"filtered_adj_frazer_scRNA.robj\", sep = \"\"), verbose = T)"
   ]
  },
  {
   "cell_type": "code",
   "execution_count": 85,
   "metadata": {},
   "outputs": [],
   "source": [
    "out = \"../Figures/Manuscript_V04/Figure_S1_\""
   ]
  },
  {
   "cell_type": "markdown",
   "metadata": {},
   "source": [
    "# Cryopreserved vs. Fresh DE"
   ]
  },
  {
   "cell_type": "code",
   "execution_count": 10,
   "metadata": {},
   "outputs": [
    {
     "data": {
      "text/html": [
       "<ol class=list-inline>\n",
       "\t<li>'Fresh iPSC'</li>\n",
       "\t<li>'Fresh iPSC-PPC'</li>\n",
       "\t<li>'Cryopreserved iPSC-PPC'</li>\n",
       "</ol>\n"
      ],
      "text/latex": [
       "\\begin{enumerate*}\n",
       "\\item 'Fresh iPSC'\n",
       "\\item 'Fresh iPSC-PPC'\n",
       "\\item 'Cryopreserved iPSC-PPC'\n",
       "\\end{enumerate*}\n"
      ],
      "text/markdown": [
       "1. 'Fresh iPSC'\n",
       "2. 'Fresh iPSC-PPC'\n",
       "3. 'Cryopreserved iPSC-PPC'\n",
       "\n",
       "\n"
      ],
      "text/plain": [
       "[1] \"Fresh iPSC\"             \"Fresh iPSC-PPC\"         \"Cryopreserved iPSC-PPC\""
      ]
     },
     "metadata": {},
     "output_type": "display_data"
    }
   ],
   "source": [
    "Idents(tiss.filtered) <- \"batch2plot\"\n",
    "\n",
    "levels(tiss.filtered)"
   ]
  },
  {
   "cell_type": "code",
   "execution_count": 26,
   "metadata": {},
   "outputs": [],
   "source": [
    "ppc_tiss.filtered = subset(tiss.filtered, idents = c(\"Fresh iPSC-PPC\", \"Cryopreserved iPSC-PPC\"))"
   ]
  },
  {
   "cell_type": "code",
   "execution_count": 27,
   "metadata": {},
   "outputs": [
    {
     "data": {
      "text/plain": [
       "\n",
       "Cryopreserved iPSC-PPC         Fresh iPSC-PPC \n",
       "                 18641                  57987 "
      ]
     },
     "metadata": {},
     "output_type": "display_data"
    }
   ],
   "source": [
    "table(ppc_tiss.filtered@meta.data$batch2plot)"
   ]
  },
  {
   "cell_type": "code",
   "execution_count": 28,
   "metadata": {},
   "outputs": [
    {
     "data": {
      "text/html": [
       "<ol class=list-inline>\n",
       "\t<li>'Fresh iPSC-PPC'</li>\n",
       "\t<li>'Cryopreserved iPSC-PPC'</li>\n",
       "</ol>\n"
      ],
      "text/latex": [
       "\\begin{enumerate*}\n",
       "\\item 'Fresh iPSC-PPC'\n",
       "\\item 'Cryopreserved iPSC-PPC'\n",
       "\\end{enumerate*}\n"
      ],
      "text/markdown": [
       "1. 'Fresh iPSC-PPC'\n",
       "2. 'Cryopreserved iPSC-PPC'\n",
       "\n",
       "\n"
      ],
      "text/plain": [
       "[1] \"Fresh iPSC-PPC\"         \"Cryopreserved iPSC-PPC\""
      ]
     },
     "metadata": {},
     "output_type": "display_data"
    }
   ],
   "source": [
    "levels(ppc_tiss.filtered)"
   ]
  },
  {
   "cell_type": "code",
   "execution_count": 30,
   "metadata": {},
   "outputs": [],
   "source": [
    "ppc_tiss.filtered = subset(ppc_tiss.filtered, cells = colnames(x = ppc_tiss.filtered)[sample(nrow(ppc_tiss.filtered@meta.data), 15000)])"
   ]
  },
  {
   "cell_type": "code",
   "execution_count": 31,
   "metadata": {},
   "outputs": [
    {
     "name": "stderr",
     "output_type": "stream",
     "text": [
      "Finished averaging RNA for cluster Fresh iPSC-PPC\n",
      "Finished averaging RNA for cluster Cryopreserved iPSC-PPC\n"
     ]
    }
   ],
   "source": [
    "cluster.averages <- AverageExpression(ppc_tiss.filtered)"
   ]
  },
  {
   "cell_type": "code",
   "execution_count": 42,
   "metadata": {},
   "outputs": [],
   "source": [
    "library(scales)"
   ]
  },
  {
   "cell_type": "code",
   "execution_count": 81,
   "metadata": {},
   "outputs": [],
   "source": [
    "PlotCTCorrelation <- function(s1, s2){\n",
    "\n",
    "\n",
    "    i.s <- smoothScatter(log(cluster.averages[[\"RNA\"]][, s1], 2), log(cluster.averages[[\"RNA\"]][, s2], 2), pch = 16, las =1 ,\n",
    "        main = \"\", nrpoints = 10, ret.selection=TRUE, xlab = s1, ylab = s2)\n",
    "\n",
    "    ## label the 10 very lowest-density points,the \"outliers\" (with obs.number):\n",
    "    text(log(cluster.averages[[\"RNA\"]][i.s[1:10],][, s1], 2), log(cluster.averages[[\"RNA\"]][i.s[1:10],][, s2], 2), labels = rownames(cluster.averages[[\"RNA\"]][i.s[1:10],]), cex= 0.75,\n",
    "        pos = 1)\n",
    "    \n",
    "    \n",
    "    abline(lm(cluster.averages[[\"RNA\"]][, s2] ~ cluster.averages[[\"RNA\"]][, s1]), col = \"red\")\n",
    "    \n",
    "    x = log(cluster.averages[[\"RNA\"]][, s1], 2)\n",
    "    x = x[! x %in% c(-Inf, Inf)]\n",
    "    x2use = min(x)\n",
    "\n",
    "    y = log(cluster.averages[[\"RNA\"]][, s2], 2)\n",
    "    y = x[! x %in% c(-Inf, Inf)]\n",
    "    y2use = max(x)\n",
    "    \n",
    "    \n",
    "    \n",
    "    text(x = x2use,#min(log(cluster.averages[[\"RNA\"]][, s1], 2)),\n",
    "         y = y2use - (y2use*.1), labels = paste(\"r\", signif(cor(cluster.averages[[\"RNA\"]][, s2], cluster.averages[[\"RNA\"]][, s1]), digits = 2), sep = \" = \"), pos = 4)\n",
    "    text(x = x2use,\n",
    "         y = y2use - (y2use*.2), labels = paste(\"p\", scientific(cor.test(cluster.averages[[\"RNA\"]][, s2], cluster.averages[[\"RNA\"]][, s1])$p.val, digits = 1000), sep = \" = \"), pos = 4)\n",
    "\n",
    "\n",
    "    \n",
    "}"
   ]
  },
  {
   "cell_type": "markdown",
   "metadata": {},
   "source": [
    "#  Figure S1"
   ]
  },
  {
   "cell_type": "code",
   "execution_count": 21,
   "metadata": {},
   "outputs": [],
   "source": [
    "PlotQCMets <- function(){\n",
    "\n",
    "    plot(tiss@meta.data$nCount_RNA, tiss@meta.data$percent.mt, pch = 20, cex = .5, xlab = \"nUMI\", ylab = \"%MT\", las = 1)\n",
    "    abline(h = 10, col = \"red\")\n",
    "    plot(tiss@meta.data$nCount_RNA, tiss@meta.data$nFeature_RNA, pch = 20, cex = .5, xlab = \"nUMI\", ylab = \"n Unique Genes\", las = 1)\n",
    "    abline(h = 500, col = \"red\")\n",
    "}"
   ]
  },
  {
   "cell_type": "code",
   "execution_count": 19,
   "metadata": {},
   "outputs": [
    {
     "data": {
      "text/html": [
       "<strong>png:</strong> 2"
      ],
      "text/latex": [
       "\\textbf{png:} 2"
      ],
      "text/markdown": [
       "**png:** 2"
      ],
      "text/plain": [
       "png \n",
       "  2 "
      ]
     },
     "metadata": {},
     "output_type": "display_data"
    }
   ],
   "source": [
    "png(paste(out, \"UMAP_unfiltered_rna.png\"), width = 3, height = 3, units = \"in\", res = 1200)\n",
    "\n",
    "DimPlot(tiss, group.by = \"nFeature_RNA_thresh\", cols = c(\"#8f1478\", \"#79c98d\")) + NoLegend()\n",
    "\n",
    "dev.off()"
   ]
  },
  {
   "cell_type": "code",
   "execution_count": 20,
   "metadata": {},
   "outputs": [
    {
     "data": {
      "text/html": [
       "<strong>png:</strong> 2"
      ],
      "text/latex": [
       "\\textbf{png:} 2"
      ],
      "text/markdown": [
       "**png:** 2"
      ],
      "text/plain": [
       "png \n",
       "  2 "
      ]
     },
     "metadata": {},
     "output_type": "display_data"
    }
   ],
   "source": [
    "png(paste(out, \"UMAP_unfiltered_mt.png\"), width = 3, height = 3, units = \"in\", res = 1200)\n",
    "\n",
    "DimPlot(tiss, group.by = \"percent.mt_greater\", cols = c(\"#79c98d\", \"#8f1478\")) + NoLegend()\n",
    "\n",
    "dev.off()"
   ]
  },
  {
   "cell_type": "code",
   "execution_count": 22,
   "metadata": {},
   "outputs": [
    {
     "data": {
      "text/html": [
       "<strong>png:</strong> 2"
      ],
      "text/latex": [
       "\\textbf{png:} 2"
      ],
      "text/markdown": [
       "**png:** 2"
      ],
      "text/plain": [
       "png \n",
       "  2 "
      ]
     },
     "metadata": {},
     "output_type": "display_data"
    },
    {
     "data": {
      "text/html": [
       "<strong>png:</strong> 2"
      ],
      "text/latex": [
       "\\textbf{png:} 2"
      ],
      "text/markdown": [
       "**png:** 2"
      ],
      "text/plain": [
       "png \n",
       "  2 "
      ]
     },
     "metadata": {},
     "output_type": "display_data"
    }
   ],
   "source": [
    "png(paste(out, \"Scatter_unfiltered_mt.png\"), width = 4, height = 3, units = \"in\", res = 1200)\n",
    "plot(tiss@meta.data$nCount_RNA, tiss@meta.data$percent.mt, pch = 20, cex = .5, xlab = \"nUMI\", ylab = \"%MT\", las = 1)\n",
    "abline(h = 10, col = \"red\")\n",
    "dev.off()\n",
    "\n",
    "png(paste(out, \"Scatter_unfiltered_genes.png\"), width = 4, height = 3, units = \"in\", res = 1200)\n",
    "plot(tiss@meta.data$nCount_RNA, tiss@meta.data$nFeature_RNA, pch = 20, cex = .5, xlab = \"nUMI\", ylab = \"n Unique Genes\", las = 1)\n",
    "abline(h = 500, col = \"red\")\n",
    "dev.off()"
   ]
  },
  {
   "cell_type": "code",
   "execution_count": 23,
   "metadata": {},
   "outputs": [
    {
     "data": {
      "text/html": [
       "<strong>png:</strong> 2"
      ],
      "text/latex": [
       "\\textbf{png:} 2"
      ],
      "text/markdown": [
       "**png:** 2"
      ],
      "text/plain": [
       "png \n",
       "  2 "
      ]
     },
     "metadata": {},
     "output_type": "display_data"
    }
   ],
   "source": [
    "png(paste(out, \"UMAP_filtered_batch.png\"), width = 3, height = 3, units = \"in\", res = 1200)\n",
    "DimPlot(tiss.filtered, pt.size = .25, label = F, group.by = \"batch2plot\") + NoLegend()\n",
    "dev.off()"
   ]
  },
  {
   "cell_type": "code",
   "execution_count": 87,
   "metadata": {},
   "outputs": [
    {
     "data": {
      "text/html": [
       "<strong>png:</strong> 2"
      ],
      "text/latex": [
       "\\textbf{png:} 2"
      ],
      "text/markdown": [
       "**png:** 2"
      ],
      "text/plain": [
       "png \n",
       "  2 "
      ]
     },
     "metadata": {},
     "output_type": "display_data"
    }
   ],
   "source": [
    "pdf(paste(out, \"smoothscatter_filtered_ff_cor.pdf\"), width = 6, height = 6)\n",
    "PlotCTCorrelation(\"Fresh iPSC-PPC\", \"Cryopreserved iPSC-PPC\")\n",
    "dev.off()"
   ]
  },
  {
   "cell_type": "code",
   "execution_count": 24,
   "metadata": {},
   "outputs": [
    {
     "data": {
      "text/html": [
       "<strong>png:</strong> 2"
      ],
      "text/latex": [
       "\\textbf{png:} 2"
      ],
      "text/markdown": [
       "**png:** 2"
      ],
      "text/plain": [
       "png \n",
       "  2 "
      ]
     },
     "metadata": {},
     "output_type": "display_data"
    }
   ],
   "source": [
    "png(paste(out, \"UMAP_filtered_cc.png\"), width = 3, height = 3, units = \"in\", res = 1200)\n",
    "DimPlot(tiss.filtered, group.by = \"Phase\", pt.size = .25) + NoLegend()\n",
    "dev.off()"
   ]
  },
  {
   "cell_type": "code",
   "execution_count": 25,
   "metadata": {},
   "outputs": [
    {
     "data": {
      "text/html": [
       "<strong>png:</strong> 2"
      ],
      "text/latex": [
       "\\textbf{png:} 2"
      ],
      "text/markdown": [
       "**png:** 2"
      ],
      "text/plain": [
       "png \n",
       "  2 "
      ]
     },
     "metadata": {},
     "output_type": "display_data"
    },
    {
     "data": {
      "text/html": [
       "<strong>png:</strong> 2"
      ],
      "text/latex": [
       "\\textbf{png:} 2"
      ],
      "text/markdown": [
       "**png:** 2"
      ],
      "text/plain": [
       "png \n",
       "  2 "
      ]
     },
     "metadata": {},
     "output_type": "display_data"
    }
   ],
   "source": [
    "png(paste(out, \"UMAP_filteredadj_cc.png\"), width = 3, height = 3, units = \"in\", res = 1200)\n",
    "DimPlot(tiss.filtered_adjusted, group.by = \"Phase\", pt.size = .25) + NoLegend()\n",
    "dev.off()\n",
    "\n",
    "png(paste(out, \"UMAP_filteredadj_batch.png\"), width = 3, height = 3, units = \"in\", res = 1200)\n",
    "DimPlot(tiss.filtered_adjusted, pt.size = .25, label = F, group.by = \"batch2plot\") + NoLegend()\n",
    "dev.off()"
   ]
  }
 ],
 "metadata": {
  "kernelspec": {
   "display_name": "R 3.5.1",
   "language": "R",
   "name": "ir351"
  },
  "language_info": {
   "codemirror_mode": "r",
   "file_extension": ".r",
   "mimetype": "text/x-r-source",
   "name": "R",
   "pygments_lexer": "r",
   "version": "3.5.1"
  }
 },
 "nbformat": 4,
 "nbformat_minor": 2
}
